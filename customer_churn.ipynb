{
 "cells": [
  {
   "cell_type": "code",
   "execution_count": 103,
   "id": "f02b49b5-db23-458d-b8be-31c00ebb310f",
   "metadata": {},
   "outputs": [],
   "source": [
    "import warnings\n",
    "warnings.filterwarnings(\"ignore\")"
   ]
  },
  {
   "cell_type": "code",
   "execution_count": 104,
   "id": "25ee259a-784f-44b2-8b64-2cd682e3dc34",
   "metadata": {},
   "outputs": [],
   "source": [
    "import pandas as pd\n",
    "import numpy as np\n",
    "import matplotlib.pyplot as plt\n",
    "import seaborn as sns"
   ]
  },
  {
   "cell_type": "code",
   "execution_count": 105,
   "id": "2c0a1b49-db1e-4ef4-8273-197f0c0c4f8b",
   "metadata": {},
   "outputs": [],
   "source": [
    "#The link to the csv file for the dataset:\n",
    "#https://raw.githubusercontent.com/carlosfab/dsnp2/master/datasets/WA_Fn-UseC_-Telco-Customer-Churn.csv"
   ]
  },
  {
   "cell_type": "code",
   "execution_count": 106,
   "id": "a0f2c089-2c9c-4741-abd6-d3f1938f082e",
   "metadata": {},
   "outputs": [],
   "source": [
    "full_df=pd.read_csv(\"https://raw.githubusercontent.com/carlosfab/dsnp2/master/datasets/WA_Fn-UseC_-Telco-Customer-Churn.csv\")"
   ]
  },
  {
   "cell_type": "code",
   "execution_count": 107,
   "id": "f17b0ed0-6c9f-4ac7-b119-41687e764581",
   "metadata": {},
   "outputs": [
    {
     "data": {
      "text/html": [
       "<div>\n",
       "<style scoped>\n",
       "    .dataframe tbody tr th:only-of-type {\n",
       "        vertical-align: middle;\n",
       "    }\n",
       "\n",
       "    .dataframe tbody tr th {\n",
       "        vertical-align: top;\n",
       "    }\n",
       "\n",
       "    .dataframe thead th {\n",
       "        text-align: right;\n",
       "    }\n",
       "</style>\n",
       "<table border=\"1\" class=\"dataframe\">\n",
       "  <thead>\n",
       "    <tr style=\"text-align: right;\">\n",
       "      <th></th>\n",
       "      <th>customerID</th>\n",
       "      <th>gender</th>\n",
       "      <th>SeniorCitizen</th>\n",
       "      <th>Partner</th>\n",
       "      <th>Dependents</th>\n",
       "      <th>tenure</th>\n",
       "      <th>PhoneService</th>\n",
       "      <th>MultipleLines</th>\n",
       "      <th>InternetService</th>\n",
       "      <th>OnlineSecurity</th>\n",
       "      <th>...</th>\n",
       "      <th>DeviceProtection</th>\n",
       "      <th>TechSupport</th>\n",
       "      <th>StreamingTV</th>\n",
       "      <th>StreamingMovies</th>\n",
       "      <th>Contract</th>\n",
       "      <th>PaperlessBilling</th>\n",
       "      <th>PaymentMethod</th>\n",
       "      <th>MonthlyCharges</th>\n",
       "      <th>TotalCharges</th>\n",
       "      <th>Churn</th>\n",
       "    </tr>\n",
       "  </thead>\n",
       "  <tbody>\n",
       "    <tr>\n",
       "      <th>0</th>\n",
       "      <td>7590-VHVEG</td>\n",
       "      <td>Female</td>\n",
       "      <td>0</td>\n",
       "      <td>Yes</td>\n",
       "      <td>No</td>\n",
       "      <td>1</td>\n",
       "      <td>No</td>\n",
       "      <td>No phone service</td>\n",
       "      <td>DSL</td>\n",
       "      <td>No</td>\n",
       "      <td>...</td>\n",
       "      <td>No</td>\n",
       "      <td>No</td>\n",
       "      <td>No</td>\n",
       "      <td>No</td>\n",
       "      <td>Month-to-month</td>\n",
       "      <td>Yes</td>\n",
       "      <td>Electronic check</td>\n",
       "      <td>29.85</td>\n",
       "      <td>29.85</td>\n",
       "      <td>No</td>\n",
       "    </tr>\n",
       "    <tr>\n",
       "      <th>1</th>\n",
       "      <td>5575-GNVDE</td>\n",
       "      <td>Male</td>\n",
       "      <td>0</td>\n",
       "      <td>No</td>\n",
       "      <td>No</td>\n",
       "      <td>34</td>\n",
       "      <td>Yes</td>\n",
       "      <td>No</td>\n",
       "      <td>DSL</td>\n",
       "      <td>Yes</td>\n",
       "      <td>...</td>\n",
       "      <td>Yes</td>\n",
       "      <td>No</td>\n",
       "      <td>No</td>\n",
       "      <td>No</td>\n",
       "      <td>One year</td>\n",
       "      <td>No</td>\n",
       "      <td>Mailed check</td>\n",
       "      <td>56.95</td>\n",
       "      <td>1889.5</td>\n",
       "      <td>No</td>\n",
       "    </tr>\n",
       "    <tr>\n",
       "      <th>2</th>\n",
       "      <td>3668-QPYBK</td>\n",
       "      <td>Male</td>\n",
       "      <td>0</td>\n",
       "      <td>No</td>\n",
       "      <td>No</td>\n",
       "      <td>2</td>\n",
       "      <td>Yes</td>\n",
       "      <td>No</td>\n",
       "      <td>DSL</td>\n",
       "      <td>Yes</td>\n",
       "      <td>...</td>\n",
       "      <td>No</td>\n",
       "      <td>No</td>\n",
       "      <td>No</td>\n",
       "      <td>No</td>\n",
       "      <td>Month-to-month</td>\n",
       "      <td>Yes</td>\n",
       "      <td>Mailed check</td>\n",
       "      <td>53.85</td>\n",
       "      <td>108.15</td>\n",
       "      <td>Yes</td>\n",
       "    </tr>\n",
       "    <tr>\n",
       "      <th>3</th>\n",
       "      <td>7795-CFOCW</td>\n",
       "      <td>Male</td>\n",
       "      <td>0</td>\n",
       "      <td>No</td>\n",
       "      <td>No</td>\n",
       "      <td>45</td>\n",
       "      <td>No</td>\n",
       "      <td>No phone service</td>\n",
       "      <td>DSL</td>\n",
       "      <td>Yes</td>\n",
       "      <td>...</td>\n",
       "      <td>Yes</td>\n",
       "      <td>Yes</td>\n",
       "      <td>No</td>\n",
       "      <td>No</td>\n",
       "      <td>One year</td>\n",
       "      <td>No</td>\n",
       "      <td>Bank transfer (automatic)</td>\n",
       "      <td>42.30</td>\n",
       "      <td>1840.75</td>\n",
       "      <td>No</td>\n",
       "    </tr>\n",
       "    <tr>\n",
       "      <th>4</th>\n",
       "      <td>9237-HQITU</td>\n",
       "      <td>Female</td>\n",
       "      <td>0</td>\n",
       "      <td>No</td>\n",
       "      <td>No</td>\n",
       "      <td>2</td>\n",
       "      <td>Yes</td>\n",
       "      <td>No</td>\n",
       "      <td>Fiber optic</td>\n",
       "      <td>No</td>\n",
       "      <td>...</td>\n",
       "      <td>No</td>\n",
       "      <td>No</td>\n",
       "      <td>No</td>\n",
       "      <td>No</td>\n",
       "      <td>Month-to-month</td>\n",
       "      <td>Yes</td>\n",
       "      <td>Electronic check</td>\n",
       "      <td>70.70</td>\n",
       "      <td>151.65</td>\n",
       "      <td>Yes</td>\n",
       "    </tr>\n",
       "  </tbody>\n",
       "</table>\n",
       "<p>5 rows × 21 columns</p>\n",
       "</div>"
      ],
      "text/plain": [
       "   customerID  gender  SeniorCitizen Partner Dependents  tenure PhoneService  \\\n",
       "0  7590-VHVEG  Female              0     Yes         No       1           No   \n",
       "1  5575-GNVDE    Male              0      No         No      34          Yes   \n",
       "2  3668-QPYBK    Male              0      No         No       2          Yes   \n",
       "3  7795-CFOCW    Male              0      No         No      45           No   \n",
       "4  9237-HQITU  Female              0      No         No       2          Yes   \n",
       "\n",
       "      MultipleLines InternetService OnlineSecurity  ... DeviceProtection  \\\n",
       "0  No phone service             DSL             No  ...               No   \n",
       "1                No             DSL            Yes  ...              Yes   \n",
       "2                No             DSL            Yes  ...               No   \n",
       "3  No phone service             DSL            Yes  ...              Yes   \n",
       "4                No     Fiber optic             No  ...               No   \n",
       "\n",
       "  TechSupport StreamingTV StreamingMovies        Contract PaperlessBilling  \\\n",
       "0          No          No              No  Month-to-month              Yes   \n",
       "1          No          No              No        One year               No   \n",
       "2          No          No              No  Month-to-month              Yes   \n",
       "3         Yes          No              No        One year               No   \n",
       "4          No          No              No  Month-to-month              Yes   \n",
       "\n",
       "               PaymentMethod MonthlyCharges  TotalCharges Churn  \n",
       "0           Electronic check          29.85         29.85    No  \n",
       "1               Mailed check          56.95        1889.5    No  \n",
       "2               Mailed check          53.85        108.15   Yes  \n",
       "3  Bank transfer (automatic)          42.30       1840.75    No  \n",
       "4           Electronic check          70.70        151.65   Yes  \n",
       "\n",
       "[5 rows x 21 columns]"
      ]
     },
     "execution_count": 107,
     "metadata": {},
     "output_type": "execute_result"
    }
   ],
   "source": [
    "full_df.head()"
   ]
  },
  {
   "cell_type": "code",
   "execution_count": 108,
   "id": "cb6c3dc3-297a-43ba-984f-ba9fb335d5ef",
   "metadata": {},
   "outputs": [
    {
     "data": {
      "text/plain": [
       "7043"
      ]
     },
     "execution_count": 108,
     "metadata": {},
     "output_type": "execute_result"
    }
   ],
   "source": [
    "len(full_df)"
   ]
  },
  {
   "cell_type": "code",
   "execution_count": 109,
   "id": "cc766ade-7b27-46d1-9a04-f5e8e682971e",
   "metadata": {},
   "outputs": [
    {
     "name": "stdout",
     "output_type": "stream",
     "text": [
      "<class 'pandas.core.frame.DataFrame'>\n",
      "RangeIndex: 7043 entries, 0 to 7042\n",
      "Data columns (total 21 columns):\n",
      " #   Column            Non-Null Count  Dtype  \n",
      "---  ------            --------------  -----  \n",
      " 0   customerID        7043 non-null   object \n",
      " 1   gender            7043 non-null   object \n",
      " 2   SeniorCitizen     7043 non-null   int64  \n",
      " 3   Partner           7043 non-null   object \n",
      " 4   Dependents        7043 non-null   object \n",
      " 5   tenure            7043 non-null   int64  \n",
      " 6   PhoneService      7043 non-null   object \n",
      " 7   MultipleLines     7043 non-null   object \n",
      " 8   InternetService   7043 non-null   object \n",
      " 9   OnlineSecurity    7043 non-null   object \n",
      " 10  OnlineBackup      7043 non-null   object \n",
      " 11  DeviceProtection  7043 non-null   object \n",
      " 12  TechSupport       7043 non-null   object \n",
      " 13  StreamingTV       7043 non-null   object \n",
      " 14  StreamingMovies   7043 non-null   object \n",
      " 15  Contract          7043 non-null   object \n",
      " 16  PaperlessBilling  7043 non-null   object \n",
      " 17  PaymentMethod     7043 non-null   object \n",
      " 18  MonthlyCharges    7043 non-null   float64\n",
      " 19  TotalCharges      7043 non-null   object \n",
      " 20  Churn             7043 non-null   object \n",
      "dtypes: float64(1), int64(2), object(18)\n",
      "memory usage: 1.1+ MB\n"
     ]
    }
   ],
   "source": [
    "full_df.info()"
   ]
  },
  {
   "cell_type": "code",
   "execution_count": 110,
   "id": "79c3d98f-c91d-4552-9d39-0974f53a296d",
   "metadata": {},
   "outputs": [],
   "source": [
    "#no null values in the dataset"
   ]
  },
  {
   "cell_type": "code",
   "execution_count": 111,
   "id": "4d401206-ae5d-4753-9c82-b9e6dec25dff",
   "metadata": {},
   "outputs": [],
   "source": [
    "#The columns gender , partner , dependents , phone-service , paperless-billing  and churn have only 2 possible values so we can label encode them"
   ]
  },
  {
   "cell_type": "code",
   "execution_count": 112,
   "id": "b4b7df33-60f3-4c87-b08c-2ee3e5b9e3d2",
   "metadata": {},
   "outputs": [
    {
     "data": {
      "text/html": [
       "<div>\n",
       "<style scoped>\n",
       "    .dataframe tbody tr th:only-of-type {\n",
       "        vertical-align: middle;\n",
       "    }\n",
       "\n",
       "    .dataframe tbody tr th {\n",
       "        vertical-align: top;\n",
       "    }\n",
       "\n",
       "    .dataframe thead th {\n",
       "        text-align: right;\n",
       "    }\n",
       "</style>\n",
       "<table border=\"1\" class=\"dataframe\">\n",
       "  <thead>\n",
       "    <tr style=\"text-align: right;\">\n",
       "      <th></th>\n",
       "      <th>customerID</th>\n",
       "      <th>gender</th>\n",
       "      <th>SeniorCitizen</th>\n",
       "      <th>Partner</th>\n",
       "      <th>Dependents</th>\n",
       "      <th>tenure</th>\n",
       "      <th>PhoneService</th>\n",
       "      <th>MultipleLines</th>\n",
       "      <th>InternetService</th>\n",
       "      <th>OnlineSecurity</th>\n",
       "      <th>...</th>\n",
       "      <th>DeviceProtection</th>\n",
       "      <th>TechSupport</th>\n",
       "      <th>StreamingTV</th>\n",
       "      <th>StreamingMovies</th>\n",
       "      <th>Contract</th>\n",
       "      <th>PaperlessBilling</th>\n",
       "      <th>PaymentMethod</th>\n",
       "      <th>MonthlyCharges</th>\n",
       "      <th>TotalCharges</th>\n",
       "      <th>Churn</th>\n",
       "    </tr>\n",
       "  </thead>\n",
       "  <tbody>\n",
       "    <tr>\n",
       "      <th>0</th>\n",
       "      <td>7590-VHVEG</td>\n",
       "      <td>0</td>\n",
       "      <td>0</td>\n",
       "      <td>1</td>\n",
       "      <td>0</td>\n",
       "      <td>1</td>\n",
       "      <td>0</td>\n",
       "      <td>No phone service</td>\n",
       "      <td>DSL</td>\n",
       "      <td>No</td>\n",
       "      <td>...</td>\n",
       "      <td>No</td>\n",
       "      <td>No</td>\n",
       "      <td>No</td>\n",
       "      <td>No</td>\n",
       "      <td>Month-to-month</td>\n",
       "      <td>1</td>\n",
       "      <td>Electronic check</td>\n",
       "      <td>29.85</td>\n",
       "      <td>29.85</td>\n",
       "      <td>0</td>\n",
       "    </tr>\n",
       "    <tr>\n",
       "      <th>1</th>\n",
       "      <td>5575-GNVDE</td>\n",
       "      <td>1</td>\n",
       "      <td>0</td>\n",
       "      <td>0</td>\n",
       "      <td>0</td>\n",
       "      <td>34</td>\n",
       "      <td>1</td>\n",
       "      <td>No</td>\n",
       "      <td>DSL</td>\n",
       "      <td>Yes</td>\n",
       "      <td>...</td>\n",
       "      <td>Yes</td>\n",
       "      <td>No</td>\n",
       "      <td>No</td>\n",
       "      <td>No</td>\n",
       "      <td>One year</td>\n",
       "      <td>0</td>\n",
       "      <td>Mailed check</td>\n",
       "      <td>56.95</td>\n",
       "      <td>1889.5</td>\n",
       "      <td>0</td>\n",
       "    </tr>\n",
       "    <tr>\n",
       "      <th>2</th>\n",
       "      <td>3668-QPYBK</td>\n",
       "      <td>1</td>\n",
       "      <td>0</td>\n",
       "      <td>0</td>\n",
       "      <td>0</td>\n",
       "      <td>2</td>\n",
       "      <td>1</td>\n",
       "      <td>No</td>\n",
       "      <td>DSL</td>\n",
       "      <td>Yes</td>\n",
       "      <td>...</td>\n",
       "      <td>No</td>\n",
       "      <td>No</td>\n",
       "      <td>No</td>\n",
       "      <td>No</td>\n",
       "      <td>Month-to-month</td>\n",
       "      <td>1</td>\n",
       "      <td>Mailed check</td>\n",
       "      <td>53.85</td>\n",
       "      <td>108.15</td>\n",
       "      <td>1</td>\n",
       "    </tr>\n",
       "    <tr>\n",
       "      <th>3</th>\n",
       "      <td>7795-CFOCW</td>\n",
       "      <td>1</td>\n",
       "      <td>0</td>\n",
       "      <td>0</td>\n",
       "      <td>0</td>\n",
       "      <td>45</td>\n",
       "      <td>0</td>\n",
       "      <td>No phone service</td>\n",
       "      <td>DSL</td>\n",
       "      <td>Yes</td>\n",
       "      <td>...</td>\n",
       "      <td>Yes</td>\n",
       "      <td>Yes</td>\n",
       "      <td>No</td>\n",
       "      <td>No</td>\n",
       "      <td>One year</td>\n",
       "      <td>0</td>\n",
       "      <td>Bank transfer (automatic)</td>\n",
       "      <td>42.30</td>\n",
       "      <td>1840.75</td>\n",
       "      <td>0</td>\n",
       "    </tr>\n",
       "    <tr>\n",
       "      <th>4</th>\n",
       "      <td>9237-HQITU</td>\n",
       "      <td>0</td>\n",
       "      <td>0</td>\n",
       "      <td>0</td>\n",
       "      <td>0</td>\n",
       "      <td>2</td>\n",
       "      <td>1</td>\n",
       "      <td>No</td>\n",
       "      <td>Fiber optic</td>\n",
       "      <td>No</td>\n",
       "      <td>...</td>\n",
       "      <td>No</td>\n",
       "      <td>No</td>\n",
       "      <td>No</td>\n",
       "      <td>No</td>\n",
       "      <td>Month-to-month</td>\n",
       "      <td>1</td>\n",
       "      <td>Electronic check</td>\n",
       "      <td>70.70</td>\n",
       "      <td>151.65</td>\n",
       "      <td>1</td>\n",
       "    </tr>\n",
       "  </tbody>\n",
       "</table>\n",
       "<p>5 rows × 21 columns</p>\n",
       "</div>"
      ],
      "text/plain": [
       "   customerID  gender  SeniorCitizen  Partner  Dependents  tenure  \\\n",
       "0  7590-VHVEG       0              0        1           0       1   \n",
       "1  5575-GNVDE       1              0        0           0      34   \n",
       "2  3668-QPYBK       1              0        0           0       2   \n",
       "3  7795-CFOCW       1              0        0           0      45   \n",
       "4  9237-HQITU       0              0        0           0       2   \n",
       "\n",
       "   PhoneService     MultipleLines InternetService OnlineSecurity  ...  \\\n",
       "0             0  No phone service             DSL             No  ...   \n",
       "1             1                No             DSL            Yes  ...   \n",
       "2             1                No             DSL            Yes  ...   \n",
       "3             0  No phone service             DSL            Yes  ...   \n",
       "4             1                No     Fiber optic             No  ...   \n",
       "\n",
       "  DeviceProtection TechSupport StreamingTV StreamingMovies        Contract  \\\n",
       "0               No          No          No              No  Month-to-month   \n",
       "1              Yes          No          No              No        One year   \n",
       "2               No          No          No              No  Month-to-month   \n",
       "3              Yes         Yes          No              No        One year   \n",
       "4               No          No          No              No  Month-to-month   \n",
       "\n",
       "  PaperlessBilling              PaymentMethod MonthlyCharges  TotalCharges  \\\n",
       "0                1           Electronic check          29.85         29.85   \n",
       "1                0               Mailed check          56.95        1889.5   \n",
       "2                1               Mailed check          53.85        108.15   \n",
       "3                0  Bank transfer (automatic)          42.30       1840.75   \n",
       "4                1           Electronic check          70.70        151.65   \n",
       "\n",
       "  Churn  \n",
       "0     0  \n",
       "1     0  \n",
       "2     1  \n",
       "3     0  \n",
       "4     1  \n",
       "\n",
       "[5 rows x 21 columns]"
      ]
     },
     "execution_count": 112,
     "metadata": {},
     "output_type": "execute_result"
    }
   ],
   "source": [
    "label_encoded_df=full_df.copy()\n",
    "from sklearn.preprocessing import LabelEncoder\n",
    "le = LabelEncoder()\n",
    "for col in [\"gender\" , \"Partner\"  , \"Dependents\" , \"PhoneService\" , 'PaperlessBilling' , 'Churn']:\n",
    "    label_encoded_df[col]=le.fit_transform(label_encoded_df[col])\n",
    "label_encoded_df.head()"
   ]
  },
  {
   "cell_type": "code",
   "execution_count": 113,
   "id": "50c31079-17a8-49cd-b05d-6d866460cecd",
   "metadata": {},
   "outputs": [],
   "source": [
    "#how the encodings took place:\n",
    "#for gender : female -> 0 , male -> 1\n",
    "#for partner : no -> 0 , yes -> 1\n",
    "#for dependents : no -> 0 , yes -> 1\n",
    "#for Phoneservices : no -> 0 , yes ->1\n",
    "#for paperlessbilling : no -> 0 , yes -> 1\n",
    "#for churn : no -> 0 , yes -> 1"
   ]
  },
  {
   "cell_type": "code",
   "execution_count": 114,
   "id": "0f1faa6e-5c1d-4703-86e3-3a26e5532b99",
   "metadata": {},
   "outputs": [],
   "source": [
    "#for multiplelines no phone service means no multiple lines so we can convert them to no also\n",
    "#same for the columns with no internet service as some values , that can be replaced with no or 0"
   ]
  },
  {
   "cell_type": "code",
   "execution_count": 115,
   "id": "22fbebcb-9656-48fd-9c4c-b7e764f10d47",
   "metadata": {},
   "outputs": [
    {
     "data": {
      "text/plain": [
       "Index(['customerID', 'gender', 'SeniorCitizen', 'Partner', 'Dependents',\n",
       "       'tenure', 'PhoneService', 'MultipleLines', 'InternetService',\n",
       "       'OnlineSecurity', 'OnlineBackup', 'DeviceProtection', 'TechSupport',\n",
       "       'StreamingTV', 'StreamingMovies', 'Contract', 'PaperlessBilling',\n",
       "       'PaymentMethod', 'MonthlyCharges', 'TotalCharges', 'Churn'],\n",
       "      dtype='object')"
      ]
     },
     "execution_count": 115,
     "metadata": {},
     "output_type": "execute_result"
    }
   ],
   "source": [
    "label_encoded_df.columns"
   ]
  },
  {
   "cell_type": "code",
   "execution_count": 116,
   "id": "1d9b587e-938a-4e0a-89ed-bf8162fb7211",
   "metadata": {},
   "outputs": [],
   "source": [
    "labelled_df = label_encoded_df.copy()"
   ]
  },
  {
   "cell_type": "code",
   "execution_count": 117,
   "id": "e5b5f1d8-7be5-41fc-a737-845d2ebef02e",
   "metadata": {},
   "outputs": [
    {
     "data": {
      "text/html": [
       "<div>\n",
       "<style scoped>\n",
       "    .dataframe tbody tr th:only-of-type {\n",
       "        vertical-align: middle;\n",
       "    }\n",
       "\n",
       "    .dataframe tbody tr th {\n",
       "        vertical-align: top;\n",
       "    }\n",
       "\n",
       "    .dataframe thead th {\n",
       "        text-align: right;\n",
       "    }\n",
       "</style>\n",
       "<table border=\"1\" class=\"dataframe\">\n",
       "  <thead>\n",
       "    <tr style=\"text-align: right;\">\n",
       "      <th></th>\n",
       "      <th>customerID</th>\n",
       "      <th>gender</th>\n",
       "      <th>SeniorCitizen</th>\n",
       "      <th>Partner</th>\n",
       "      <th>Dependents</th>\n",
       "      <th>tenure</th>\n",
       "      <th>PhoneService</th>\n",
       "      <th>MultipleLines</th>\n",
       "      <th>InternetService</th>\n",
       "      <th>OnlineSecurity</th>\n",
       "      <th>...</th>\n",
       "      <th>DeviceProtection</th>\n",
       "      <th>TechSupport</th>\n",
       "      <th>StreamingTV</th>\n",
       "      <th>StreamingMovies</th>\n",
       "      <th>Contract</th>\n",
       "      <th>PaperlessBilling</th>\n",
       "      <th>PaymentMethod</th>\n",
       "      <th>MonthlyCharges</th>\n",
       "      <th>TotalCharges</th>\n",
       "      <th>Churn</th>\n",
       "    </tr>\n",
       "  </thead>\n",
       "  <tbody>\n",
       "    <tr>\n",
       "      <th>0</th>\n",
       "      <td>7590-VHVEG</td>\n",
       "      <td>0</td>\n",
       "      <td>0</td>\n",
       "      <td>1</td>\n",
       "      <td>0</td>\n",
       "      <td>1</td>\n",
       "      <td>0</td>\n",
       "      <td>0</td>\n",
       "      <td>DSL</td>\n",
       "      <td>0</td>\n",
       "      <td>...</td>\n",
       "      <td>0</td>\n",
       "      <td>0</td>\n",
       "      <td>0</td>\n",
       "      <td>0</td>\n",
       "      <td>Month-to-month</td>\n",
       "      <td>1</td>\n",
       "      <td>Electronic check</td>\n",
       "      <td>29.85</td>\n",
       "      <td>29.85</td>\n",
       "      <td>0</td>\n",
       "    </tr>\n",
       "    <tr>\n",
       "      <th>1</th>\n",
       "      <td>5575-GNVDE</td>\n",
       "      <td>1</td>\n",
       "      <td>0</td>\n",
       "      <td>0</td>\n",
       "      <td>0</td>\n",
       "      <td>34</td>\n",
       "      <td>1</td>\n",
       "      <td>0</td>\n",
       "      <td>DSL</td>\n",
       "      <td>1</td>\n",
       "      <td>...</td>\n",
       "      <td>1</td>\n",
       "      <td>0</td>\n",
       "      <td>0</td>\n",
       "      <td>0</td>\n",
       "      <td>One year</td>\n",
       "      <td>0</td>\n",
       "      <td>Mailed check</td>\n",
       "      <td>56.95</td>\n",
       "      <td>1889.5</td>\n",
       "      <td>0</td>\n",
       "    </tr>\n",
       "    <tr>\n",
       "      <th>2</th>\n",
       "      <td>3668-QPYBK</td>\n",
       "      <td>1</td>\n",
       "      <td>0</td>\n",
       "      <td>0</td>\n",
       "      <td>0</td>\n",
       "      <td>2</td>\n",
       "      <td>1</td>\n",
       "      <td>0</td>\n",
       "      <td>DSL</td>\n",
       "      <td>1</td>\n",
       "      <td>...</td>\n",
       "      <td>0</td>\n",
       "      <td>0</td>\n",
       "      <td>0</td>\n",
       "      <td>0</td>\n",
       "      <td>Month-to-month</td>\n",
       "      <td>1</td>\n",
       "      <td>Mailed check</td>\n",
       "      <td>53.85</td>\n",
       "      <td>108.15</td>\n",
       "      <td>1</td>\n",
       "    </tr>\n",
       "    <tr>\n",
       "      <th>3</th>\n",
       "      <td>7795-CFOCW</td>\n",
       "      <td>1</td>\n",
       "      <td>0</td>\n",
       "      <td>0</td>\n",
       "      <td>0</td>\n",
       "      <td>45</td>\n",
       "      <td>0</td>\n",
       "      <td>0</td>\n",
       "      <td>DSL</td>\n",
       "      <td>1</td>\n",
       "      <td>...</td>\n",
       "      <td>1</td>\n",
       "      <td>1</td>\n",
       "      <td>0</td>\n",
       "      <td>0</td>\n",
       "      <td>One year</td>\n",
       "      <td>0</td>\n",
       "      <td>Bank transfer (automatic)</td>\n",
       "      <td>42.30</td>\n",
       "      <td>1840.75</td>\n",
       "      <td>0</td>\n",
       "    </tr>\n",
       "    <tr>\n",
       "      <th>4</th>\n",
       "      <td>9237-HQITU</td>\n",
       "      <td>0</td>\n",
       "      <td>0</td>\n",
       "      <td>0</td>\n",
       "      <td>0</td>\n",
       "      <td>2</td>\n",
       "      <td>1</td>\n",
       "      <td>0</td>\n",
       "      <td>Fiber optic</td>\n",
       "      <td>0</td>\n",
       "      <td>...</td>\n",
       "      <td>0</td>\n",
       "      <td>0</td>\n",
       "      <td>0</td>\n",
       "      <td>0</td>\n",
       "      <td>Month-to-month</td>\n",
       "      <td>1</td>\n",
       "      <td>Electronic check</td>\n",
       "      <td>70.70</td>\n",
       "      <td>151.65</td>\n",
       "      <td>1</td>\n",
       "    </tr>\n",
       "  </tbody>\n",
       "</table>\n",
       "<p>5 rows × 21 columns</p>\n",
       "</div>"
      ],
      "text/plain": [
       "   customerID  gender  SeniorCitizen  Partner  Dependents  tenure  \\\n",
       "0  7590-VHVEG       0              0        1           0       1   \n",
       "1  5575-GNVDE       1              0        0           0      34   \n",
       "2  3668-QPYBK       1              0        0           0       2   \n",
       "3  7795-CFOCW       1              0        0           0      45   \n",
       "4  9237-HQITU       0              0        0           0       2   \n",
       "\n",
       "   PhoneService  MultipleLines InternetService  OnlineSecurity  ...  \\\n",
       "0             0              0             DSL               0  ...   \n",
       "1             1              0             DSL               1  ...   \n",
       "2             1              0             DSL               1  ...   \n",
       "3             0              0             DSL               1  ...   \n",
       "4             1              0     Fiber optic               0  ...   \n",
       "\n",
       "   DeviceProtection  TechSupport  StreamingTV  StreamingMovies  \\\n",
       "0                 0            0            0                0   \n",
       "1                 1            0            0                0   \n",
       "2                 0            0            0                0   \n",
       "3                 1            1            0                0   \n",
       "4                 0            0            0                0   \n",
       "\n",
       "         Contract PaperlessBilling              PaymentMethod MonthlyCharges  \\\n",
       "0  Month-to-month                1           Electronic check          29.85   \n",
       "1        One year                0               Mailed check          56.95   \n",
       "2  Month-to-month                1               Mailed check          53.85   \n",
       "3        One year                0  Bank transfer (automatic)          42.30   \n",
       "4  Month-to-month                1           Electronic check          70.70   \n",
       "\n",
       "   TotalCharges Churn  \n",
       "0         29.85     0  \n",
       "1        1889.5     0  \n",
       "2        108.15     1  \n",
       "3       1840.75     0  \n",
       "4        151.65     1  \n",
       "\n",
       "[5 rows x 21 columns]"
      ]
     },
     "execution_count": 117,
     "metadata": {},
     "output_type": "execute_result"
    }
   ],
   "source": [
    "def col_encoder(col_val):\n",
    "    if col_val == \"Yes\":\n",
    "        return 1\n",
    "    else:\n",
    "        return 0\n",
    "col_no_service = ['MultipleLines' , 'OnlineSecurity' , 'OnlineBackup' , 'DeviceProtection' , 'TechSupport' , 'StreamingTV' , 'StreamingMovies']\n",
    "for col in  col_no_service:\n",
    "    label_encoded_df[col] = label_encoded_df[col].apply(col_encoder)\n",
    "label_encoded_df.head()"
   ]
  },
  {
   "cell_type": "code",
   "execution_count": 118,
   "id": "0ac0d17d-2b2e-49ad-8e40-4322d7ae35d5",
   "metadata": {},
   "outputs": [
    {
     "data": {
      "text/plain": [
       "MultipleLines\n",
       "No                  3390\n",
       "Yes                 2971\n",
       "No phone service     682\n",
       "Name: count, dtype: int64"
      ]
     },
     "execution_count": 118,
     "metadata": {},
     "output_type": "execute_result"
    }
   ],
   "source": [
    "labelled_df['MultipleLines'].value_counts()"
   ]
  },
  {
   "cell_type": "code",
   "execution_count": 119,
   "id": "cd9adb0b-f8eb-43cc-bcfb-588cbc6ecaba",
   "metadata": {},
   "outputs": [
    {
     "data": {
      "text/plain": [
       "MultipleLines\n",
       "0    4072\n",
       "1    2971\n",
       "Name: count, dtype: int64"
      ]
     },
     "execution_count": 119,
     "metadata": {},
     "output_type": "execute_result"
    }
   ],
   "source": [
    "label_encoded_df['MultipleLines'].value_counts()"
   ]
  },
  {
   "cell_type": "code",
   "execution_count": 120,
   "id": "fe9ac35d-b0ec-404d-8194-48a23cc0706b",
   "metadata": {},
   "outputs": [],
   "source": [
    "#hence the encoding is correct as col values add up correctly"
   ]
  },
  {
   "cell_type": "code",
   "execution_count": 121,
   "id": "196016e7-dbf7-485c-8387-60490a4921bd",
   "metadata": {},
   "outputs": [],
   "source": [
    "labelled_df = label_encoded_df.copy()"
   ]
  },
  {
   "cell_type": "code",
   "execution_count": 122,
   "id": "3e3ab668-e546-441b-b229-ac29cc4c70d9",
   "metadata": {},
   "outputs": [
    {
     "name": "stdout",
     "output_type": "stream",
     "text": [
      "<class 'pandas.core.frame.DataFrame'>\n",
      "RangeIndex: 7043 entries, 0 to 7042\n",
      "Data columns (total 21 columns):\n",
      " #   Column            Non-Null Count  Dtype  \n",
      "---  ------            --------------  -----  \n",
      " 0   customerID        7043 non-null   object \n",
      " 1   gender            7043 non-null   int32  \n",
      " 2   SeniorCitizen     7043 non-null   int64  \n",
      " 3   Partner           7043 non-null   int32  \n",
      " 4   Dependents        7043 non-null   int32  \n",
      " 5   tenure            7043 non-null   int64  \n",
      " 6   PhoneService      7043 non-null   int32  \n",
      " 7   MultipleLines     7043 non-null   int64  \n",
      " 8   InternetService   7043 non-null   object \n",
      " 9   OnlineSecurity    7043 non-null   int64  \n",
      " 10  OnlineBackup      7043 non-null   int64  \n",
      " 11  DeviceProtection  7043 non-null   int64  \n",
      " 12  TechSupport       7043 non-null   int64  \n",
      " 13  StreamingTV       7043 non-null   int64  \n",
      " 14  StreamingMovies   7043 non-null   int64  \n",
      " 15  Contract          7043 non-null   object \n",
      " 16  PaperlessBilling  7043 non-null   int32  \n",
      " 17  PaymentMethod     7043 non-null   object \n",
      " 18  MonthlyCharges    7043 non-null   float64\n",
      " 19  TotalCharges      7043 non-null   object \n",
      " 20  Churn             7043 non-null   int32  \n",
      "dtypes: float64(1), int32(6), int64(9), object(5)\n",
      "memory usage: 990.6+ KB\n"
     ]
    }
   ],
   "source": [
    "label_encoded_df.info()"
   ]
  },
  {
   "cell_type": "code",
   "execution_count": 123,
   "id": "7262b13f-93a4-484f-a0e2-7a7c575d46d6",
   "metadata": {},
   "outputs": [
    {
     "data": {
      "text/plain": [
       "customerID          0\n",
       "gender              0\n",
       "SeniorCitizen       0\n",
       "Partner             0\n",
       "Dependents          0\n",
       "tenure              0\n",
       "PhoneService        0\n",
       "MultipleLines       0\n",
       "InternetService     0\n",
       "OnlineSecurity      0\n",
       "OnlineBackup        0\n",
       "DeviceProtection    0\n",
       "TechSupport         0\n",
       "StreamingTV         0\n",
       "StreamingMovies     0\n",
       "Contract            0\n",
       "PaperlessBilling    0\n",
       "PaymentMethod       0\n",
       "MonthlyCharges      0\n",
       "TotalCharges        0\n",
       "Churn               0\n",
       "dtype: int64"
      ]
     },
     "execution_count": 123,
     "metadata": {},
     "output_type": "execute_result"
    }
   ],
   "source": [
    "label_encoded_df.isnull().sum()"
   ]
  },
  {
   "cell_type": "code",
   "execution_count": 124,
   "id": "81a4f982-7ba4-4183-94f3-47417a3118ee",
   "metadata": {},
   "outputs": [],
   "source": [
    "total_charges_obj_df = label_encoded_df.copy()"
   ]
  },
  {
   "cell_type": "code",
   "execution_count": 125,
   "id": "b5442524-72c6-4c60-bfde-21f766b71c64",
   "metadata": {},
   "outputs": [],
   "source": [
    "total_charges_obj_df['TotalCharges']=pd.to_numeric(total_charges_obj_df['TotalCharges'] , errors=\"coerce\")"
   ]
  },
  {
   "cell_type": "code",
   "execution_count": 126,
   "id": "708106b6-f367-43e8-b54f-f231b59410ee",
   "metadata": {},
   "outputs": [
    {
     "name": "stdout",
     "output_type": "stream",
     "text": [
      "<class 'pandas.core.frame.DataFrame'>\n",
      "RangeIndex: 7043 entries, 0 to 7042\n",
      "Data columns (total 21 columns):\n",
      " #   Column            Non-Null Count  Dtype  \n",
      "---  ------            --------------  -----  \n",
      " 0   customerID        7043 non-null   object \n",
      " 1   gender            7043 non-null   int32  \n",
      " 2   SeniorCitizen     7043 non-null   int64  \n",
      " 3   Partner           7043 non-null   int32  \n",
      " 4   Dependents        7043 non-null   int32  \n",
      " 5   tenure            7043 non-null   int64  \n",
      " 6   PhoneService      7043 non-null   int32  \n",
      " 7   MultipleLines     7043 non-null   int64  \n",
      " 8   InternetService   7043 non-null   object \n",
      " 9   OnlineSecurity    7043 non-null   int64  \n",
      " 10  OnlineBackup      7043 non-null   int64  \n",
      " 11  DeviceProtection  7043 non-null   int64  \n",
      " 12  TechSupport       7043 non-null   int64  \n",
      " 13  StreamingTV       7043 non-null   int64  \n",
      " 14  StreamingMovies   7043 non-null   int64  \n",
      " 15  Contract          7043 non-null   object \n",
      " 16  PaperlessBilling  7043 non-null   int32  \n",
      " 17  PaymentMethod     7043 non-null   object \n",
      " 18  MonthlyCharges    7043 non-null   float64\n",
      " 19  TotalCharges      7032 non-null   float64\n",
      " 20  Churn             7043 non-null   int32  \n",
      "dtypes: float64(2), int32(6), int64(9), object(4)\n",
      "memory usage: 990.6+ KB\n"
     ]
    }
   ],
   "source": [
    "total_charges_obj_df.info()"
   ]
  },
  {
   "cell_type": "code",
   "execution_count": 127,
   "id": "0e79128c-e14c-41d1-9726-83f98ce4caf0",
   "metadata": {},
   "outputs": [],
   "source": [
    "blank_total_charges=total_charges_obj_df[total_charges_obj_df['TotalCharges'].isnull()].index\n",
    "#some of the total charges are blank spaces"
   ]
  },
  {
   "cell_type": "code",
   "execution_count": 128,
   "id": "297ee3af-f4ee-4fc3-96ce-647639634aeb",
   "metadata": {},
   "outputs": [
    {
     "data": {
      "text/plain": [
       "customerID                         4472-LVYGI\n",
       "gender                                 Female\n",
       "SeniorCitizen                               0\n",
       "Partner                                   Yes\n",
       "Dependents                                Yes\n",
       "tenure                                      0\n",
       "PhoneService                               No\n",
       "MultipleLines                No phone service\n",
       "InternetService                           DSL\n",
       "OnlineSecurity                            Yes\n",
       "OnlineBackup                               No\n",
       "DeviceProtection                          Yes\n",
       "TechSupport                               Yes\n",
       "StreamingTV                               Yes\n",
       "StreamingMovies                            No\n",
       "Contract                             Two year\n",
       "PaperlessBilling                          Yes\n",
       "PaymentMethod       Bank transfer (automatic)\n",
       "MonthlyCharges                          52.55\n",
       "TotalCharges                                 \n",
       "Churn                                      No\n",
       "Name: 488, dtype: object"
      ]
     },
     "execution_count": 128,
     "metadata": {},
     "output_type": "execute_result"
    }
   ],
   "source": [
    "full_df.iloc[488]"
   ]
  },
  {
   "cell_type": "code",
   "execution_count": 129,
   "id": "244ce6c4-be72-479e-9b1b-6687b38ec8dd",
   "metadata": {},
   "outputs": [
    {
     "data": {
      "text/plain": [
       "Index([488, 753, 936, 1082, 1340, 3331, 3826, 4380, 5218, 6670, 6754], dtype='int64')"
      ]
     },
     "execution_count": 129,
     "metadata": {},
     "output_type": "execute_result"
    }
   ],
   "source": [
    "blank_total_charges"
   ]
  },
  {
   "cell_type": "code",
   "execution_count": 130,
   "id": "e52f4742-c112-485b-8c7c-969e40ae799d",
   "metadata": {},
   "outputs": [],
   "source": [
    "#we can drop the 11 rows in 7000 rows it wont affect the predictions much"
   ]
  },
  {
   "cell_type": "code",
   "execution_count": 131,
   "id": "1314c973-c946-41a3-acfb-a22701e91435",
   "metadata": {},
   "outputs": [],
   "source": [
    "label_encoded_df=label_encoded_df.drop(blank_total_charges , axis=0)"
   ]
  },
  {
   "cell_type": "code",
   "execution_count": 132,
   "id": "7b3c0cbd-a805-4068-9b6e-28a0e21109ec",
   "metadata": {},
   "outputs": [
    {
     "name": "stdout",
     "output_type": "stream",
     "text": [
      "<class 'pandas.core.frame.DataFrame'>\n",
      "Index: 7032 entries, 0 to 7042\n",
      "Data columns (total 21 columns):\n",
      " #   Column            Non-Null Count  Dtype  \n",
      "---  ------            --------------  -----  \n",
      " 0   customerID        7032 non-null   object \n",
      " 1   gender            7032 non-null   int32  \n",
      " 2   SeniorCitizen     7032 non-null   int64  \n",
      " 3   Partner           7032 non-null   int32  \n",
      " 4   Dependents        7032 non-null   int32  \n",
      " 5   tenure            7032 non-null   int64  \n",
      " 6   PhoneService      7032 non-null   int32  \n",
      " 7   MultipleLines     7032 non-null   int64  \n",
      " 8   InternetService   7032 non-null   object \n",
      " 9   OnlineSecurity    7032 non-null   int64  \n",
      " 10  OnlineBackup      7032 non-null   int64  \n",
      " 11  DeviceProtection  7032 non-null   int64  \n",
      " 12  TechSupport       7032 non-null   int64  \n",
      " 13  StreamingTV       7032 non-null   int64  \n",
      " 14  StreamingMovies   7032 non-null   int64  \n",
      " 15  Contract          7032 non-null   object \n",
      " 16  PaperlessBilling  7032 non-null   int32  \n",
      " 17  PaymentMethod     7032 non-null   object \n",
      " 18  MonthlyCharges    7032 non-null   float64\n",
      " 19  TotalCharges      7032 non-null   object \n",
      " 20  Churn             7032 non-null   int32  \n",
      "dtypes: float64(1), int32(6), int64(9), object(5)\n",
      "memory usage: 1.0+ MB\n"
     ]
    }
   ],
   "source": [
    "label_encoded_df.info()"
   ]
  },
  {
   "cell_type": "code",
   "execution_count": 133,
   "id": "7cb9af16-cfd4-459f-baa1-7de987fa8869",
   "metadata": {},
   "outputs": [],
   "source": [
    "#now need to convert the totalcharges column to floats"
   ]
  },
  {
   "cell_type": "code",
   "execution_count": 134,
   "id": "8269bcf6-080b-49a7-a15a-24225cd158d3",
   "metadata": {},
   "outputs": [],
   "source": [
    "before_floats = label_encoded_df.copy()"
   ]
  },
  {
   "cell_type": "code",
   "execution_count": 135,
   "id": "a3e3b5b1-d617-413c-a545-00b6f54f4dda",
   "metadata": {},
   "outputs": [],
   "source": [
    "before_floats['TotalCharges']=pd.to_numeric(before_floats['TotalCharges'] , errors ='coerce')"
   ]
  },
  {
   "cell_type": "code",
   "execution_count": 136,
   "id": "aa505ae0-765d-4811-840a-4cdde82daf92",
   "metadata": {},
   "outputs": [
    {
     "name": "stdout",
     "output_type": "stream",
     "text": [
      "<class 'pandas.core.frame.DataFrame'>\n",
      "Index: 7032 entries, 0 to 7042\n",
      "Data columns (total 21 columns):\n",
      " #   Column            Non-Null Count  Dtype  \n",
      "---  ------            --------------  -----  \n",
      " 0   customerID        7032 non-null   object \n",
      " 1   gender            7032 non-null   int32  \n",
      " 2   SeniorCitizen     7032 non-null   int64  \n",
      " 3   Partner           7032 non-null   int32  \n",
      " 4   Dependents        7032 non-null   int32  \n",
      " 5   tenure            7032 non-null   int64  \n",
      " 6   PhoneService      7032 non-null   int32  \n",
      " 7   MultipleLines     7032 non-null   int64  \n",
      " 8   InternetService   7032 non-null   object \n",
      " 9   OnlineSecurity    7032 non-null   int64  \n",
      " 10  OnlineBackup      7032 non-null   int64  \n",
      " 11  DeviceProtection  7032 non-null   int64  \n",
      " 12  TechSupport       7032 non-null   int64  \n",
      " 13  StreamingTV       7032 non-null   int64  \n",
      " 14  StreamingMovies   7032 non-null   int64  \n",
      " 15  Contract          7032 non-null   object \n",
      " 16  PaperlessBilling  7032 non-null   int32  \n",
      " 17  PaymentMethod     7032 non-null   object \n",
      " 18  MonthlyCharges    7032 non-null   float64\n",
      " 19  TotalCharges      7032 non-null   float64\n",
      " 20  Churn             7032 non-null   int32  \n",
      "dtypes: float64(2), int32(6), int64(9), object(4)\n",
      "memory usage: 1.0+ MB\n"
     ]
    }
   ],
   "source": [
    "before_floats.info()"
   ]
  },
  {
   "cell_type": "code",
   "execution_count": 137,
   "id": "ce88d53b-19e7-4fca-b9ad-72a410c41143",
   "metadata": {},
   "outputs": [],
   "source": [
    "#works fine so can change the label_encoded_df to before_floats table"
   ]
  },
  {
   "cell_type": "code",
   "execution_count": 138,
   "id": "b0cef0eb-141b-4ee9-8038-719bd6ec4bd5",
   "metadata": {},
   "outputs": [],
   "source": [
    "label_encoded_df = before_floats.copy()"
   ]
  },
  {
   "cell_type": "code",
   "execution_count": 139,
   "id": "f424ea1a-90e4-4e07-bf20-ce3d2600808c",
   "metadata": {},
   "outputs": [],
   "source": [
    "string_df = label_encoded_df[['InternetService' , 'Contract' , 'PaymentMethod']]"
   ]
  },
  {
   "cell_type": "code",
   "execution_count": 140,
   "id": "56a852ef-a311-4ffc-a42f-0b4ea6214c4e",
   "metadata": {},
   "outputs": [
    {
     "name": "stdout",
     "output_type": "stream",
     "text": [
      "<class 'pandas.core.frame.DataFrame'>\n",
      "Index: 7032 entries, 0 to 7042\n",
      "Data columns (total 3 columns):\n",
      " #   Column           Non-Null Count  Dtype \n",
      "---  ------           --------------  ----- \n",
      " 0   InternetService  7032 non-null   object\n",
      " 1   Contract         7032 non-null   object\n",
      " 2   PaymentMethod    7032 non-null   object\n",
      "dtypes: object(3)\n",
      "memory usage: 219.8+ KB\n"
     ]
    }
   ],
   "source": [
    "string_df.info()"
   ]
  },
  {
   "cell_type": "code",
   "execution_count": 141,
   "id": "971f5cd9-2f5c-4e11-b701-b12eb1d3eb0b",
   "metadata": {},
   "outputs": [],
   "source": [
    "int_df = label_encoded_df.drop(['InternetService' , 'Contract' , 'PaymentMethod'],axis=1)"
   ]
  },
  {
   "cell_type": "code",
   "execution_count": 142,
   "id": "3b6e229d-9fd1-4a9f-ae05-bb534bb9fcce",
   "metadata": {},
   "outputs": [
    {
     "name": "stdout",
     "output_type": "stream",
     "text": [
      "<class 'pandas.core.frame.DataFrame'>\n",
      "Index: 7032 entries, 0 to 7042\n",
      "Data columns (total 18 columns):\n",
      " #   Column            Non-Null Count  Dtype  \n",
      "---  ------            --------------  -----  \n",
      " 0   customerID        7032 non-null   object \n",
      " 1   gender            7032 non-null   int32  \n",
      " 2   SeniorCitizen     7032 non-null   int64  \n",
      " 3   Partner           7032 non-null   int32  \n",
      " 4   Dependents        7032 non-null   int32  \n",
      " 5   tenure            7032 non-null   int64  \n",
      " 6   PhoneService      7032 non-null   int32  \n",
      " 7   MultipleLines     7032 non-null   int64  \n",
      " 8   OnlineSecurity    7032 non-null   int64  \n",
      " 9   OnlineBackup      7032 non-null   int64  \n",
      " 10  DeviceProtection  7032 non-null   int64  \n",
      " 11  TechSupport       7032 non-null   int64  \n",
      " 12  StreamingTV       7032 non-null   int64  \n",
      " 13  StreamingMovies   7032 non-null   int64  \n",
      " 14  PaperlessBilling  7032 non-null   int32  \n",
      " 15  MonthlyCharges    7032 non-null   float64\n",
      " 16  TotalCharges      7032 non-null   float64\n",
      " 17  Churn             7032 non-null   int32  \n",
      "dtypes: float64(2), int32(6), int64(9), object(1)\n",
      "memory usage: 879.0+ KB\n"
     ]
    }
   ],
   "source": [
    "int_df.info()"
   ]
  },
  {
   "cell_type": "code",
   "execution_count": 143,
   "id": "7ee0294e-d10a-4eaa-a6de-9bb10123d503",
   "metadata": {},
   "outputs": [],
   "source": [
    "#we need to convert the categorical data but now lets do some EDA on the full_df we had initially"
   ]
  },
  {
   "cell_type": "code",
   "execution_count": 144,
   "id": "d7620cf8-dc77-4d70-a280-bcdedf1f8636",
   "metadata": {},
   "outputs": [
    {
     "data": {
      "text/html": [
       "<div>\n",
       "<style scoped>\n",
       "    .dataframe tbody tr th:only-of-type {\n",
       "        vertical-align: middle;\n",
       "    }\n",
       "\n",
       "    .dataframe tbody tr th {\n",
       "        vertical-align: top;\n",
       "    }\n",
       "\n",
       "    .dataframe thead th {\n",
       "        text-align: right;\n",
       "    }\n",
       "</style>\n",
       "<table border=\"1\" class=\"dataframe\">\n",
       "  <thead>\n",
       "    <tr style=\"text-align: right;\">\n",
       "      <th></th>\n",
       "      <th>customerID</th>\n",
       "      <th>gender</th>\n",
       "      <th>SeniorCitizen</th>\n",
       "      <th>Partner</th>\n",
       "      <th>Dependents</th>\n",
       "      <th>tenure</th>\n",
       "      <th>PhoneService</th>\n",
       "      <th>MultipleLines</th>\n",
       "      <th>InternetService</th>\n",
       "      <th>OnlineSecurity</th>\n",
       "      <th>...</th>\n",
       "      <th>DeviceProtection</th>\n",
       "      <th>TechSupport</th>\n",
       "      <th>StreamingTV</th>\n",
       "      <th>StreamingMovies</th>\n",
       "      <th>Contract</th>\n",
       "      <th>PaperlessBilling</th>\n",
       "      <th>PaymentMethod</th>\n",
       "      <th>MonthlyCharges</th>\n",
       "      <th>TotalCharges</th>\n",
       "      <th>Churn</th>\n",
       "    </tr>\n",
       "  </thead>\n",
       "  <tbody>\n",
       "    <tr>\n",
       "      <th>0</th>\n",
       "      <td>7590-VHVEG</td>\n",
       "      <td>Female</td>\n",
       "      <td>0</td>\n",
       "      <td>Yes</td>\n",
       "      <td>No</td>\n",
       "      <td>1</td>\n",
       "      <td>No</td>\n",
       "      <td>No phone service</td>\n",
       "      <td>DSL</td>\n",
       "      <td>No</td>\n",
       "      <td>...</td>\n",
       "      <td>No</td>\n",
       "      <td>No</td>\n",
       "      <td>No</td>\n",
       "      <td>No</td>\n",
       "      <td>Month-to-month</td>\n",
       "      <td>Yes</td>\n",
       "      <td>Electronic check</td>\n",
       "      <td>29.85</td>\n",
       "      <td>29.85</td>\n",
       "      <td>No</td>\n",
       "    </tr>\n",
       "    <tr>\n",
       "      <th>1</th>\n",
       "      <td>5575-GNVDE</td>\n",
       "      <td>Male</td>\n",
       "      <td>0</td>\n",
       "      <td>No</td>\n",
       "      <td>No</td>\n",
       "      <td>34</td>\n",
       "      <td>Yes</td>\n",
       "      <td>No</td>\n",
       "      <td>DSL</td>\n",
       "      <td>Yes</td>\n",
       "      <td>...</td>\n",
       "      <td>Yes</td>\n",
       "      <td>No</td>\n",
       "      <td>No</td>\n",
       "      <td>No</td>\n",
       "      <td>One year</td>\n",
       "      <td>No</td>\n",
       "      <td>Mailed check</td>\n",
       "      <td>56.95</td>\n",
       "      <td>1889.5</td>\n",
       "      <td>No</td>\n",
       "    </tr>\n",
       "    <tr>\n",
       "      <th>2</th>\n",
       "      <td>3668-QPYBK</td>\n",
       "      <td>Male</td>\n",
       "      <td>0</td>\n",
       "      <td>No</td>\n",
       "      <td>No</td>\n",
       "      <td>2</td>\n",
       "      <td>Yes</td>\n",
       "      <td>No</td>\n",
       "      <td>DSL</td>\n",
       "      <td>Yes</td>\n",
       "      <td>...</td>\n",
       "      <td>No</td>\n",
       "      <td>No</td>\n",
       "      <td>No</td>\n",
       "      <td>No</td>\n",
       "      <td>Month-to-month</td>\n",
       "      <td>Yes</td>\n",
       "      <td>Mailed check</td>\n",
       "      <td>53.85</td>\n",
       "      <td>108.15</td>\n",
       "      <td>Yes</td>\n",
       "    </tr>\n",
       "    <tr>\n",
       "      <th>3</th>\n",
       "      <td>7795-CFOCW</td>\n",
       "      <td>Male</td>\n",
       "      <td>0</td>\n",
       "      <td>No</td>\n",
       "      <td>No</td>\n",
       "      <td>45</td>\n",
       "      <td>No</td>\n",
       "      <td>No phone service</td>\n",
       "      <td>DSL</td>\n",
       "      <td>Yes</td>\n",
       "      <td>...</td>\n",
       "      <td>Yes</td>\n",
       "      <td>Yes</td>\n",
       "      <td>No</td>\n",
       "      <td>No</td>\n",
       "      <td>One year</td>\n",
       "      <td>No</td>\n",
       "      <td>Bank transfer (automatic)</td>\n",
       "      <td>42.30</td>\n",
       "      <td>1840.75</td>\n",
       "      <td>No</td>\n",
       "    </tr>\n",
       "    <tr>\n",
       "      <th>4</th>\n",
       "      <td>9237-HQITU</td>\n",
       "      <td>Female</td>\n",
       "      <td>0</td>\n",
       "      <td>No</td>\n",
       "      <td>No</td>\n",
       "      <td>2</td>\n",
       "      <td>Yes</td>\n",
       "      <td>No</td>\n",
       "      <td>Fiber optic</td>\n",
       "      <td>No</td>\n",
       "      <td>...</td>\n",
       "      <td>No</td>\n",
       "      <td>No</td>\n",
       "      <td>No</td>\n",
       "      <td>No</td>\n",
       "      <td>Month-to-month</td>\n",
       "      <td>Yes</td>\n",
       "      <td>Electronic check</td>\n",
       "      <td>70.70</td>\n",
       "      <td>151.65</td>\n",
       "      <td>Yes</td>\n",
       "    </tr>\n",
       "  </tbody>\n",
       "</table>\n",
       "<p>5 rows × 21 columns</p>\n",
       "</div>"
      ],
      "text/plain": [
       "   customerID  gender  SeniorCitizen Partner Dependents  tenure PhoneService  \\\n",
       "0  7590-VHVEG  Female              0     Yes         No       1           No   \n",
       "1  5575-GNVDE    Male              0      No         No      34          Yes   \n",
       "2  3668-QPYBK    Male              0      No         No       2          Yes   \n",
       "3  7795-CFOCW    Male              0      No         No      45           No   \n",
       "4  9237-HQITU  Female              0      No         No       2          Yes   \n",
       "\n",
       "      MultipleLines InternetService OnlineSecurity  ... DeviceProtection  \\\n",
       "0  No phone service             DSL             No  ...               No   \n",
       "1                No             DSL            Yes  ...              Yes   \n",
       "2                No             DSL            Yes  ...               No   \n",
       "3  No phone service             DSL            Yes  ...              Yes   \n",
       "4                No     Fiber optic             No  ...               No   \n",
       "\n",
       "  TechSupport StreamingTV StreamingMovies        Contract PaperlessBilling  \\\n",
       "0          No          No              No  Month-to-month              Yes   \n",
       "1          No          No              No        One year               No   \n",
       "2          No          No              No  Month-to-month              Yes   \n",
       "3         Yes          No              No        One year               No   \n",
       "4          No          No              No  Month-to-month              Yes   \n",
       "\n",
       "               PaymentMethod MonthlyCharges  TotalCharges Churn  \n",
       "0           Electronic check          29.85         29.85    No  \n",
       "1               Mailed check          56.95        1889.5    No  \n",
       "2               Mailed check          53.85        108.15   Yes  \n",
       "3  Bank transfer (automatic)          42.30       1840.75    No  \n",
       "4           Electronic check          70.70        151.65   Yes  \n",
       "\n",
       "[5 rows x 21 columns]"
      ]
     },
     "execution_count": 144,
     "metadata": {},
     "output_type": "execute_result"
    }
   ],
   "source": [
    "full_df.head()"
   ]
  },
  {
   "cell_type": "code",
   "execution_count": 145,
   "id": "43fb5ad7-6e14-4c69-82f2-0e19e9c3ed2d",
   "metadata": {},
   "outputs": [
    {
     "data": {
      "text/plain": [
       "<Axes: xlabel='Churn', ylabel='count'>"
      ]
     },
     "execution_count": 145,
     "metadata": {},
     "output_type": "execute_result"
    },
    {
     "data": {
      "image/png": "[encoded data removed]",
      "text/plain": [
       "<Figure size 640x480 with 1 Axes>"
      ]
     },
     "metadata": {},
     "output_type": "display_data"
    }
   ],
   "source": [
    "sns.countplot(data=full_df , x='Churn')"
   ]
  },
  {
   "cell_type": "code",
   "execution_count": 146,
   "id": "c0c863fb-385c-44af-a8c1-84f9678aa393",
   "metadata": {},
   "outputs": [
    {
     "data": {
      "text/plain": [
       "Churn\n",
       "No     5174\n",
       "Yes    1869\n",
       "Name: count, dtype: int64"
      ]
     },
     "execution_count": 146,
     "metadata": {},
     "output_type": "execute_result"
    }
   ],
   "source": [
    "full_df['Churn'].value_counts()"
   ]
  },
  {
   "cell_type": "code",
   "execution_count": 147,
   "id": "be681c1f-4a38-404d-a0c9-2ba05f04de76",
   "metadata": {},
   "outputs": [],
   "source": [
    "#churned customers is about 26%"
   ]
  },
  {
   "cell_type": "code",
   "execution_count": 148,
   "id": "9d30d37b-7307-4107-bf67-25c9ab390a4a",
   "metadata": {},
   "outputs": [
    {
     "data": {
      "image/png": "[encoded data removed]",
      "text/plain": [
       "<Figure size 640x480 with 1 Axes>"
      ]
     },
     "metadata": {},
     "output_type": "display_data"
    },
    {
     "data": {
      "image/png": "[encoded data removed]",
      "text/plain": [
       "<Figure size 640x480 with 1 Axes>"
      ]
     },
     "metadata": {},
     "output_type": "display_data"
    },
    {
     "data": {
      "image/png": "[encoded data removed]",
      "text/plain": [
       "<Figure size 640x480 with 1 Axes>"
      ]
     },
     "metadata": {},
     "output_type": "display_data"
    },
    {
     "data": {
      "image/png": "[encoded data removed]",
      "text/plain": [
       "<Figure size 640x480 with 1 Axes>"
      ]
     },
     "metadata": {},
     "output_type": "display_data"
    },
    {
     "data": {
      "image/png": "[encoded data removed]",
      "text/plain": [
       "<Figure size 640x480 with 1 Axes>"
      ]
     },
     "metadata": {},
     "output_type": "display_data"
    },
    {
     "data": {
      "image/png": "[encoded data removed]",
      "text/plain": [
       "<Figure size 640x480 with 1 Axes>"
      ]
     },
     "metadata": {},
     "output_type": "display_data"
    },
    {
     "data": {
      "image/png": "[encoded data removed]",
      "text/plain": [
       "<Figure size 640x480 with 1 Axes>"
      ]
     },
     "metadata": {},
     "output_type": "display_data"
    },
    {
     "data": {
      "image/png": "[encoded data removed]",
      "text/plain": [
       "<Figure size 640x480 with 1 Axes>"
      ]
     },
     "metadata": {},
     "output_type": "display_data"
    },
    {
     "data": {
      "image/png": "[encoded data removed]",
      "text/plain": [
       "<Figure size 640x480 with 1 Axes>"
      ]
     },
     "metadata": {},
     "output_type": "display_data"
    },
    {
     "data": {
      "image/png": "[encoded data removed]",
      "text/plain": [
       "<Figure size 640x480 with 1 Axes>"
      ]
     },
     "metadata": {},
     "output_type": "display_data"
    },
    {
     "data": {
      "image/png": "[encoded data removed]",
      "text/plain": [
       "<Figure size 640x480 with 1 Axes>"
      ]
     },
     "metadata": {},
     "output_type": "display_data"
    },
    {
     "data": {
      "image/png": "[encoded data removed]",
      "text/plain": [
       "<Figure size 640x480 with 1 Axes>"
      ]
     },
     "metadata": {},
     "output_type": "display_data"
    },
    {
     "data": {
      "image/png": "[encoded data removed]",
      "text/plain": [
       "<Figure size 640x480 with 1 Axes>"
      ]
     },
     "metadata": {},
     "output_type": "display_data"
    },
    {
     "data": {
      "image/png": "[encoded data removed]",
      "text/plain": [
       "<Figure size 640x480 with 1 Axes>"
      ]
     },
     "metadata": {},
     "output_type": "display_data"
    },
    {
     "data": {
      "image/png": "[encoded data removed]",
      "text/plain": [
       "<Figure size 640x480 with 1 Axes>"
      ]
     },
     "metadata": {},
     "output_type": "display_data"
    },
    {
     "data": {
      "image/png": "[encoded data removed]",
      "text/plain": [
       "<Figure size 640x480 with 1 Axes>"
      ]
     },
     "metadata": {},
     "output_type": "display_data"
    }
   ],
   "source": [
    "for i , value in enumerate( full_df.drop(['Churn' , 'TotalCharges' , 'MonthlyCharges','customerID' , 'tenure'] , axis=1)):\n",
    "    plt.figure(i)\n",
    "    sns.countplot(data=full_df , x = value , hue='Churn')\n",
    "    plt.xticks(rotation=90)"
   ]
  },
  {
   "cell_type": "code",
   "execution_count": 149,
   "id": "174310d9-dc7f-460c-ba34-8f58a05ee684",
   "metadata": {},
   "outputs": [
    {
     "name": "stdout",
     "output_type": "stream",
     "text": [
      " \n",
      "very high churn rates can be observed in customers with:\n",
      "fiber optic internet service \n",
      "No online security\n",
      "No online backup\n",
      "No device protection\n",
      "No tech support\n",
      "Month-to-mmonth contract\n",
      "Electronic check payment method\n",
      "\n"
     ]
    }
   ],
   "source": [
    "print(\"\"\" \n",
    "very high churn rates can be observed in customers with:\n",
    "fiber optic internet service \n",
    "No online security\n",
    "No online backup\n",
    "No device protection\n",
    "No tech support\n",
    "Month-to-mmonth contract\n",
    "Electronic check payment method\n",
    "\"\"\")"
   ]
  },
  {
   "cell_type": "code",
   "execution_count": 150,
   "id": "13afea5a-26f3-41fa-8e06-40209f810058",
   "metadata": {},
   "outputs": [],
   "source": [
    "#now lets convert the categorical data to numeric ones"
   ]
  },
  {
   "cell_type": "code",
   "execution_count": 151,
   "id": "33c6a407-82a2-4b09-a55f-760137a6de8e",
   "metadata": {},
   "outputs": [
    {
     "data": {
      "text/html": [
       "<div>\n",
       "<style scoped>\n",
       "    .dataframe tbody tr th:only-of-type {\n",
       "        vertical-align: middle;\n",
       "    }\n",
       "\n",
       "    .dataframe tbody tr th {\n",
       "        vertical-align: top;\n",
       "    }\n",
       "\n",
       "    .dataframe thead th {\n",
       "        text-align: right;\n",
       "    }\n",
       "</style>\n",
       "<table border=\"1\" class=\"dataframe\">\n",
       "  <thead>\n",
       "    <tr style=\"text-align: right;\">\n",
       "      <th></th>\n",
       "      <th>InternetService</th>\n",
       "      <th>Contract</th>\n",
       "      <th>PaymentMethod</th>\n",
       "    </tr>\n",
       "  </thead>\n",
       "  <tbody>\n",
       "    <tr>\n",
       "      <th>0</th>\n",
       "      <td>DSL</td>\n",
       "      <td>Month-to-month</td>\n",
       "      <td>Electronic check</td>\n",
       "    </tr>\n",
       "    <tr>\n",
       "      <th>1</th>\n",
       "      <td>DSL</td>\n",
       "      <td>One year</td>\n",
       "      <td>Mailed check</td>\n",
       "    </tr>\n",
       "    <tr>\n",
       "      <th>2</th>\n",
       "      <td>DSL</td>\n",
       "      <td>Month-to-month</td>\n",
       "      <td>Mailed check</td>\n",
       "    </tr>\n",
       "    <tr>\n",
       "      <th>3</th>\n",
       "      <td>DSL</td>\n",
       "      <td>One year</td>\n",
       "      <td>Bank transfer (automatic)</td>\n",
       "    </tr>\n",
       "    <tr>\n",
       "      <th>4</th>\n",
       "      <td>Fiber optic</td>\n",
       "      <td>Month-to-month</td>\n",
       "      <td>Electronic check</td>\n",
       "    </tr>\n",
       "  </tbody>\n",
       "</table>\n",
       "</div>"
      ],
      "text/plain": [
       "  InternetService        Contract              PaymentMethod\n",
       "0             DSL  Month-to-month           Electronic check\n",
       "1             DSL        One year               Mailed check\n",
       "2             DSL  Month-to-month               Mailed check\n",
       "3             DSL        One year  Bank transfer (automatic)\n",
       "4     Fiber optic  Month-to-month           Electronic check"
      ]
     },
     "execution_count": 151,
     "metadata": {},
     "output_type": "execute_result"
    }
   ],
   "source": [
    "string_df.head()"
   ]
  },
  {
   "cell_type": "code",
   "execution_count": 152,
   "id": "29c43d34-5d20-482b-8a1b-412f0a8978ca",
   "metadata": {},
   "outputs": [
    {
     "data": {
      "text/html": [
       "<div>\n",
       "<style scoped>\n",
       "    .dataframe tbody tr th:only-of-type {\n",
       "        vertical-align: middle;\n",
       "    }\n",
       "\n",
       "    .dataframe tbody tr th {\n",
       "        vertical-align: top;\n",
       "    }\n",
       "\n",
       "    .dataframe thead th {\n",
       "        text-align: right;\n",
       "    }\n",
       "</style>\n",
       "<table border=\"1\" class=\"dataframe\">\n",
       "  <thead>\n",
       "    <tr style=\"text-align: right;\">\n",
       "      <th></th>\n",
       "      <th>InternetService_DSL</th>\n",
       "      <th>InternetService_Fiber optic</th>\n",
       "      <th>InternetService_No</th>\n",
       "      <th>Contract_Month-to-month</th>\n",
       "      <th>Contract_One year</th>\n",
       "      <th>Contract_Two year</th>\n",
       "      <th>PaymentMethod_Bank transfer (automatic)</th>\n",
       "      <th>PaymentMethod_Credit card (automatic)</th>\n",
       "      <th>PaymentMethod_Electronic check</th>\n",
       "      <th>PaymentMethod_Mailed check</th>\n",
       "    </tr>\n",
       "  </thead>\n",
       "  <tbody>\n",
       "    <tr>\n",
       "      <th>0</th>\n",
       "      <td>1</td>\n",
       "      <td>0</td>\n",
       "      <td>0</td>\n",
       "      <td>1</td>\n",
       "      <td>0</td>\n",
       "      <td>0</td>\n",
       "      <td>0</td>\n",
       "      <td>0</td>\n",
       "      <td>1</td>\n",
       "      <td>0</td>\n",
       "    </tr>\n",
       "    <tr>\n",
       "      <th>1</th>\n",
       "      <td>1</td>\n",
       "      <td>0</td>\n",
       "      <td>0</td>\n",
       "      <td>0</td>\n",
       "      <td>1</td>\n",
       "      <td>0</td>\n",
       "      <td>0</td>\n",
       "      <td>0</td>\n",
       "      <td>0</td>\n",
       "      <td>1</td>\n",
       "    </tr>\n",
       "    <tr>\n",
       "      <th>2</th>\n",
       "      <td>1</td>\n",
       "      <td>0</td>\n",
       "      <td>0</td>\n",
       "      <td>1</td>\n",
       "      <td>0</td>\n",
       "      <td>0</td>\n",
       "      <td>0</td>\n",
       "      <td>0</td>\n",
       "      <td>0</td>\n",
       "      <td>1</td>\n",
       "    </tr>\n",
       "    <tr>\n",
       "      <th>3</th>\n",
       "      <td>1</td>\n",
       "      <td>0</td>\n",
       "      <td>0</td>\n",
       "      <td>0</td>\n",
       "      <td>1</td>\n",
       "      <td>0</td>\n",
       "      <td>1</td>\n",
       "      <td>0</td>\n",
       "      <td>0</td>\n",
       "      <td>0</td>\n",
       "    </tr>\n",
       "    <tr>\n",
       "      <th>4</th>\n",
       "      <td>0</td>\n",
       "      <td>1</td>\n",
       "      <td>0</td>\n",
       "      <td>1</td>\n",
       "      <td>0</td>\n",
       "      <td>0</td>\n",
       "      <td>0</td>\n",
       "      <td>0</td>\n",
       "      <td>1</td>\n",
       "      <td>0</td>\n",
       "    </tr>\n",
       "  </tbody>\n",
       "</table>\n",
       "</div>"
      ],
      "text/plain": [
       "   InternetService_DSL  InternetService_Fiber optic  InternetService_No  \\\n",
       "0                    1                            0                   0   \n",
       "1                    1                            0                   0   \n",
       "2                    1                            0                   0   \n",
       "3                    1                            0                   0   \n",
       "4                    0                            1                   0   \n",
       "\n",
       "   Contract_Month-to-month  Contract_One year  Contract_Two year  \\\n",
       "0                        1                  0                  0   \n",
       "1                        0                  1                  0   \n",
       "2                        1                  0                  0   \n",
       "3                        0                  1                  0   \n",
       "4                        1                  0                  0   \n",
       "\n",
       "   PaymentMethod_Bank transfer (automatic)  \\\n",
       "0                                        0   \n",
       "1                                        0   \n",
       "2                                        0   \n",
       "3                                        1   \n",
       "4                                        0   \n",
       "\n",
       "   PaymentMethod_Credit card (automatic)  PaymentMethod_Electronic check  \\\n",
       "0                                      0                               1   \n",
       "1                                      0                               0   \n",
       "2                                      0                               0   \n",
       "3                                      0                               0   \n",
       "4                                      0                               1   \n",
       "\n",
       "   PaymentMethod_Mailed check  \n",
       "0                           0  \n",
       "1                           1  \n",
       "2                           1  \n",
       "3                           0  \n",
       "4                           0  "
      ]
     },
     "execution_count": 152,
     "metadata": {},
     "output_type": "execute_result"
    }
   ],
   "source": [
    "string_df_dummies = pd.get_dummies(string_df)\n",
    "string_df_dummies = string_df_dummies.astype(int)\n",
    "string_df_dummies.head()"
   ]
  },
  {
   "cell_type": "code",
   "execution_count": 153,
   "id": "6dfa5e12-0c0e-4cb1-9db3-a87ecd341dec",
   "metadata": {},
   "outputs": [
    {
     "data": {
      "text/html": [
       "<div>\n",
       "<style scoped>\n",
       "    .dataframe tbody tr th:only-of-type {\n",
       "        vertical-align: middle;\n",
       "    }\n",
       "\n",
       "    .dataframe tbody tr th {\n",
       "        vertical-align: top;\n",
       "    }\n",
       "\n",
       "    .dataframe thead th {\n",
       "        text-align: right;\n",
       "    }\n",
       "</style>\n",
       "<table border=\"1\" class=\"dataframe\">\n",
       "  <thead>\n",
       "    <tr style=\"text-align: right;\">\n",
       "      <th></th>\n",
       "      <th>customerID</th>\n",
       "      <th>gender</th>\n",
       "      <th>SeniorCitizen</th>\n",
       "      <th>Partner</th>\n",
       "      <th>Dependents</th>\n",
       "      <th>tenure</th>\n",
       "      <th>PhoneService</th>\n",
       "      <th>MultipleLines</th>\n",
       "      <th>OnlineSecurity</th>\n",
       "      <th>OnlineBackup</th>\n",
       "      <th>...</th>\n",
       "      <th>InternetService_DSL</th>\n",
       "      <th>InternetService_Fiber optic</th>\n",
       "      <th>InternetService_No</th>\n",
       "      <th>Contract_Month-to-month</th>\n",
       "      <th>Contract_One year</th>\n",
       "      <th>Contract_Two year</th>\n",
       "      <th>PaymentMethod_Bank transfer (automatic)</th>\n",
       "      <th>PaymentMethod_Credit card (automatic)</th>\n",
       "      <th>PaymentMethod_Electronic check</th>\n",
       "      <th>PaymentMethod_Mailed check</th>\n",
       "    </tr>\n",
       "  </thead>\n",
       "  <tbody>\n",
       "    <tr>\n",
       "      <th>0</th>\n",
       "      <td>7590-VHVEG</td>\n",
       "      <td>0</td>\n",
       "      <td>0</td>\n",
       "      <td>1</td>\n",
       "      <td>0</td>\n",
       "      <td>1</td>\n",
       "      <td>0</td>\n",
       "      <td>0</td>\n",
       "      <td>0</td>\n",
       "      <td>1</td>\n",
       "      <td>...</td>\n",
       "      <td>1</td>\n",
       "      <td>0</td>\n",
       "      <td>0</td>\n",
       "      <td>1</td>\n",
       "      <td>0</td>\n",
       "      <td>0</td>\n",
       "      <td>0</td>\n",
       "      <td>0</td>\n",
       "      <td>1</td>\n",
       "      <td>0</td>\n",
       "    </tr>\n",
       "    <tr>\n",
       "      <th>1</th>\n",
       "      <td>5575-GNVDE</td>\n",
       "      <td>1</td>\n",
       "      <td>0</td>\n",
       "      <td>0</td>\n",
       "      <td>0</td>\n",
       "      <td>34</td>\n",
       "      <td>1</td>\n",
       "      <td>0</td>\n",
       "      <td>1</td>\n",
       "      <td>0</td>\n",
       "      <td>...</td>\n",
       "      <td>1</td>\n",
       "      <td>0</td>\n",
       "      <td>0</td>\n",
       "      <td>0</td>\n",
       "      <td>1</td>\n",
       "      <td>0</td>\n",
       "      <td>0</td>\n",
       "      <td>0</td>\n",
       "      <td>0</td>\n",
       "      <td>1</td>\n",
       "    </tr>\n",
       "    <tr>\n",
       "      <th>2</th>\n",
       "      <td>3668-QPYBK</td>\n",
       "      <td>1</td>\n",
       "      <td>0</td>\n",
       "      <td>0</td>\n",
       "      <td>0</td>\n",
       "      <td>2</td>\n",
       "      <td>1</td>\n",
       "      <td>0</td>\n",
       "      <td>1</td>\n",
       "      <td>1</td>\n",
       "      <td>...</td>\n",
       "      <td>1</td>\n",
       "      <td>0</td>\n",
       "      <td>0</td>\n",
       "      <td>1</td>\n",
       "      <td>0</td>\n",
       "      <td>0</td>\n",
       "      <td>0</td>\n",
       "      <td>0</td>\n",
       "      <td>0</td>\n",
       "      <td>1</td>\n",
       "    </tr>\n",
       "    <tr>\n",
       "      <th>3</th>\n",
       "      <td>7795-CFOCW</td>\n",
       "      <td>1</td>\n",
       "      <td>0</td>\n",
       "      <td>0</td>\n",
       "      <td>0</td>\n",
       "      <td>45</td>\n",
       "      <td>0</td>\n",
       "      <td>0</td>\n",
       "      <td>1</td>\n",
       "      <td>0</td>\n",
       "      <td>...</td>\n",
       "      <td>1</td>\n",
       "      <td>0</td>\n",
       "      <td>0</td>\n",
       "      <td>0</td>\n",
       "      <td>1</td>\n",
       "      <td>0</td>\n",
       "      <td>1</td>\n",
       "      <td>0</td>\n",
       "      <td>0</td>\n",
       "      <td>0</td>\n",
       "    </tr>\n",
       "    <tr>\n",
       "      <th>4</th>\n",
       "      <td>9237-HQITU</td>\n",
       "      <td>0</td>\n",
       "      <td>0</td>\n",
       "      <td>0</td>\n",
       "      <td>0</td>\n",
       "      <td>2</td>\n",
       "      <td>1</td>\n",
       "      <td>0</td>\n",
       "      <td>0</td>\n",
       "      <td>0</td>\n",
       "      <td>...</td>\n",
       "      <td>0</td>\n",
       "      <td>1</td>\n",
       "      <td>0</td>\n",
       "      <td>1</td>\n",
       "      <td>0</td>\n",
       "      <td>0</td>\n",
       "      <td>0</td>\n",
       "      <td>0</td>\n",
       "      <td>1</td>\n",
       "      <td>0</td>\n",
       "    </tr>\n",
       "  </tbody>\n",
       "</table>\n",
       "<p>5 rows × 28 columns</p>\n",
       "</div>"
      ],
      "text/plain": [
       "   customerID  gender  SeniorCitizen  Partner  Dependents  tenure  \\\n",
       "0  7590-VHVEG       0              0        1           0       1   \n",
       "1  5575-GNVDE       1              0        0           0      34   \n",
       "2  3668-QPYBK       1              0        0           0       2   \n",
       "3  7795-CFOCW       1              0        0           0      45   \n",
       "4  9237-HQITU       0              0        0           0       2   \n",
       "\n",
       "   PhoneService  MultipleLines  OnlineSecurity  OnlineBackup  ...  \\\n",
       "0             0              0               0             1  ...   \n",
       "1             1              0               1             0  ...   \n",
       "2             1              0               1             1  ...   \n",
       "3             0              0               1             0  ...   \n",
       "4             1              0               0             0  ...   \n",
       "\n",
       "   InternetService_DSL  InternetService_Fiber optic  InternetService_No  \\\n",
       "0                    1                            0                   0   \n",
       "1                    1                            0                   0   \n",
       "2                    1                            0                   0   \n",
       "3                    1                            0                   0   \n",
       "4                    0                            1                   0   \n",
       "\n",
       "   Contract_Month-to-month  Contract_One year  Contract_Two year  \\\n",
       "0                        1                  0                  0   \n",
       "1                        0                  1                  0   \n",
       "2                        1                  0                  0   \n",
       "3                        0                  1                  0   \n",
       "4                        1                  0                  0   \n",
       "\n",
       "   PaymentMethod_Bank transfer (automatic)  \\\n",
       "0                                        0   \n",
       "1                                        0   \n",
       "2                                        0   \n",
       "3                                        1   \n",
       "4                                        0   \n",
       "\n",
       "   PaymentMethod_Credit card (automatic)  PaymentMethod_Electronic check  \\\n",
       "0                                      0                               1   \n",
       "1                                      0                               0   \n",
       "2                                      0                               0   \n",
       "3                                      0                               0   \n",
       "4                                      0                               1   \n",
       "\n",
       "   PaymentMethod_Mailed check  \n",
       "0                           0  \n",
       "1                           1  \n",
       "2                           1  \n",
       "3                           0  \n",
       "4                           0  \n",
       "\n",
       "[5 rows x 28 columns]"
      ]
     },
     "execution_count": 153,
     "metadata": {},
     "output_type": "execute_result"
    }
   ],
   "source": [
    "final_df =  pd.concat([int_df , string_df_dummies] , axis=1)\n",
    "final_df.head()"
   ]
  },
  {
   "cell_type": "code",
   "execution_count": 154,
   "id": "d00cf387-9a2c-4aeb-9e54-8ea98a069787",
   "metadata": {},
   "outputs": [
    {
     "name": "stdout",
     "output_type": "stream",
     "text": [
      "<class 'pandas.core.frame.DataFrame'>\n",
      "Index: 7032 entries, 0 to 7042\n",
      "Data columns (total 28 columns):\n",
      " #   Column                                   Non-Null Count  Dtype  \n",
      "---  ------                                   --------------  -----  \n",
      " 0   customerID                               7032 non-null   object \n",
      " 1   gender                                   7032 non-null   int32  \n",
      " 2   SeniorCitizen                            7032 non-null   int64  \n",
      " 3   Partner                                  7032 non-null   int32  \n",
      " 4   Dependents                               7032 non-null   int32  \n",
      " 5   tenure                                   7032 non-null   int64  \n",
      " 6   PhoneService                             7032 non-null   int32  \n",
      " 7   MultipleLines                            7032 non-null   int64  \n",
      " 8   OnlineSecurity                           7032 non-null   int64  \n",
      " 9   OnlineBackup                             7032 non-null   int64  \n",
      " 10  DeviceProtection                         7032 non-null   int64  \n",
      " 11  TechSupport                              7032 non-null   int64  \n",
      " 12  StreamingTV                              7032 non-null   int64  \n",
      " 13  StreamingMovies                          7032 non-null   int64  \n",
      " 14  PaperlessBilling                         7032 non-null   int32  \n",
      " 15  MonthlyCharges                           7032 non-null   float64\n",
      " 16  TotalCharges                             7032 non-null   float64\n",
      " 17  Churn                                    7032 non-null   int32  \n",
      " 18  InternetService_DSL                      7032 non-null   int32  \n",
      " 19  InternetService_Fiber optic              7032 non-null   int32  \n",
      " 20  InternetService_No                       7032 non-null   int32  \n",
      " 21  Contract_Month-to-month                  7032 non-null   int32  \n",
      " 22  Contract_One year                        7032 non-null   int32  \n",
      " 23  Contract_Two year                        7032 non-null   int32  \n",
      " 24  PaymentMethod_Bank transfer (automatic)  7032 non-null   int32  \n",
      " 25  PaymentMethod_Credit card (automatic)    7032 non-null   int32  \n",
      " 26  PaymentMethod_Electronic check           7032 non-null   int32  \n",
      " 27  PaymentMethod_Mailed check               7032 non-null   int32  \n",
      "dtypes: float64(2), int32(16), int64(9), object(1)\n",
      "memory usage: 1.1+ MB\n"
     ]
    }
   ],
   "source": [
    "final_df.info()"
   ]
  },
  {
   "cell_type": "code",
   "execution_count": 155,
   "id": "1d5df2ba-38df-49b0-a621-eae5718586ad",
   "metadata": {},
   "outputs": [],
   "source": [
    "#now lets drop the customerID column to make a dataset ready for model for classification"
   ]
  },
  {
   "cell_type": "code",
   "execution_count": 156,
   "id": "7f21585d-55ec-4737-a81d-e5764fb62080",
   "metadata": {},
   "outputs": [],
   "source": [
    "df=final_df.drop('customerID',axis=1)"
   ]
  },
  {
   "cell_type": "code",
   "execution_count": 157,
   "id": "61b7987d-dc3c-4e6a-9299-8876d8bfbdb2",
   "metadata": {},
   "outputs": [
    {
     "data": {
      "text/html": [
       "<div>\n",
       "<style scoped>\n",
       "    .dataframe tbody tr th:only-of-type {\n",
       "        vertical-align: middle;\n",
       "    }\n",
       "\n",
       "    .dataframe tbody tr th {\n",
       "        vertical-align: top;\n",
       "    }\n",
       "\n",
       "    .dataframe thead th {\n",
       "        text-align: right;\n",
       "    }\n",
       "</style>\n",
       "<table border=\"1\" class=\"dataframe\">\n",
       "  <thead>\n",
       "    <tr style=\"text-align: right;\">\n",
       "      <th></th>\n",
       "      <th>gender</th>\n",
       "      <th>SeniorCitizen</th>\n",
       "      <th>Partner</th>\n",
       "      <th>Dependents</th>\n",
       "      <th>tenure</th>\n",
       "      <th>PhoneService</th>\n",
       "      <th>MultipleLines</th>\n",
       "      <th>OnlineSecurity</th>\n",
       "      <th>OnlineBackup</th>\n",
       "      <th>DeviceProtection</th>\n",
       "      <th>...</th>\n",
       "      <th>InternetService_DSL</th>\n",
       "      <th>InternetService_Fiber optic</th>\n",
       "      <th>InternetService_No</th>\n",
       "      <th>Contract_Month-to-month</th>\n",
       "      <th>Contract_One year</th>\n",
       "      <th>Contract_Two year</th>\n",
       "      <th>PaymentMethod_Bank transfer (automatic)</th>\n",
       "      <th>PaymentMethod_Credit card (automatic)</th>\n",
       "      <th>PaymentMethod_Electronic check</th>\n",
       "      <th>PaymentMethod_Mailed check</th>\n",
       "    </tr>\n",
       "  </thead>\n",
       "  <tbody>\n",
       "    <tr>\n",
       "      <th>0</th>\n",
       "      <td>0</td>\n",
       "      <td>0</td>\n",
       "      <td>1</td>\n",
       "      <td>0</td>\n",
       "      <td>1</td>\n",
       "      <td>0</td>\n",
       "      <td>0</td>\n",
       "      <td>0</td>\n",
       "      <td>1</td>\n",
       "      <td>0</td>\n",
       "      <td>...</td>\n",
       "      <td>1</td>\n",
       "      <td>0</td>\n",
       "      <td>0</td>\n",
       "      <td>1</td>\n",
       "      <td>0</td>\n",
       "      <td>0</td>\n",
       "      <td>0</td>\n",
       "      <td>0</td>\n",
       "      <td>1</td>\n",
       "      <td>0</td>\n",
       "    </tr>\n",
       "    <tr>\n",
       "      <th>1</th>\n",
       "      <td>1</td>\n",
       "      <td>0</td>\n",
       "      <td>0</td>\n",
       "      <td>0</td>\n",
       "      <td>34</td>\n",
       "      <td>1</td>\n",
       "      <td>0</td>\n",
       "      <td>1</td>\n",
       "      <td>0</td>\n",
       "      <td>1</td>\n",
       "      <td>...</td>\n",
       "      <td>1</td>\n",
       "      <td>0</td>\n",
       "      <td>0</td>\n",
       "      <td>0</td>\n",
       "      <td>1</td>\n",
       "      <td>0</td>\n",
       "      <td>0</td>\n",
       "      <td>0</td>\n",
       "      <td>0</td>\n",
       "      <td>1</td>\n",
       "    </tr>\n",
       "    <tr>\n",
       "      <th>2</th>\n",
       "      <td>1</td>\n",
       "      <td>0</td>\n",
       "      <td>0</td>\n",
       "      <td>0</td>\n",
       "      <td>2</td>\n",
       "      <td>1</td>\n",
       "      <td>0</td>\n",
       "      <td>1</td>\n",
       "      <td>1</td>\n",
       "      <td>0</td>\n",
       "      <td>...</td>\n",
       "      <td>1</td>\n",
       "      <td>0</td>\n",
       "      <td>0</td>\n",
       "      <td>1</td>\n",
       "      <td>0</td>\n",
       "      <td>0</td>\n",
       "      <td>0</td>\n",
       "      <td>0</td>\n",
       "      <td>0</td>\n",
       "      <td>1</td>\n",
       "    </tr>\n",
       "    <tr>\n",
       "      <th>3</th>\n",
       "      <td>1</td>\n",
       "      <td>0</td>\n",
       "      <td>0</td>\n",
       "      <td>0</td>\n",
       "      <td>45</td>\n",
       "      <td>0</td>\n",
       "      <td>0</td>\n",
       "      <td>1</td>\n",
       "      <td>0</td>\n",
       "      <td>1</td>\n",
       "      <td>...</td>\n",
       "      <td>1</td>\n",
       "      <td>0</td>\n",
       "      <td>0</td>\n",
       "      <td>0</td>\n",
       "      <td>1</td>\n",
       "      <td>0</td>\n",
       "      <td>1</td>\n",
       "      <td>0</td>\n",
       "      <td>0</td>\n",
       "      <td>0</td>\n",
       "    </tr>\n",
       "    <tr>\n",
       "      <th>4</th>\n",
       "      <td>0</td>\n",
       "      <td>0</td>\n",
       "      <td>0</td>\n",
       "      <td>0</td>\n",
       "      <td>2</td>\n",
       "      <td>1</td>\n",
       "      <td>0</td>\n",
       "      <td>0</td>\n",
       "      <td>0</td>\n",
       "      <td>0</td>\n",
       "      <td>...</td>\n",
       "      <td>0</td>\n",
       "      <td>1</td>\n",
       "      <td>0</td>\n",
       "      <td>1</td>\n",
       "      <td>0</td>\n",
       "      <td>0</td>\n",
       "      <td>0</td>\n",
       "      <td>0</td>\n",
       "      <td>1</td>\n",
       "      <td>0</td>\n",
       "    </tr>\n",
       "  </tbody>\n",
       "</table>\n",
       "<p>5 rows × 27 columns</p>\n",
       "</div>"
      ],
      "text/plain": [
       "   gender  SeniorCitizen  Partner  Dependents  tenure  PhoneService  \\\n",
       "0       0              0        1           0       1             0   \n",
       "1       1              0        0           0      34             1   \n",
       "2       1              0        0           0       2             1   \n",
       "3       1              0        0           0      45             0   \n",
       "4       0              0        0           0       2             1   \n",
       "\n",
       "   MultipleLines  OnlineSecurity  OnlineBackup  DeviceProtection  ...  \\\n",
       "0              0               0             1                 0  ...   \n",
       "1              0               1             0                 1  ...   \n",
       "2              0               1             1                 0  ...   \n",
       "3              0               1             0                 1  ...   \n",
       "4              0               0             0                 0  ...   \n",
       "\n",
       "   InternetService_DSL  InternetService_Fiber optic  InternetService_No  \\\n",
       "0                    1                            0                   0   \n",
       "1                    1                            0                   0   \n",
       "2                    1                            0                   0   \n",
       "3                    1                            0                   0   \n",
       "4                    0                            1                   0   \n",
       "\n",
       "   Contract_Month-to-month  Contract_One year  Contract_Two year  \\\n",
       "0                        1                  0                  0   \n",
       "1                        0                  1                  0   \n",
       "2                        1                  0                  0   \n",
       "3                        0                  1                  0   \n",
       "4                        1                  0                  0   \n",
       "\n",
       "   PaymentMethod_Bank transfer (automatic)  \\\n",
       "0                                        0   \n",
       "1                                        0   \n",
       "2                                        0   \n",
       "3                                        1   \n",
       "4                                        0   \n",
       "\n",
       "   PaymentMethod_Credit card (automatic)  PaymentMethod_Electronic check  \\\n",
       "0                                      0                               1   \n",
       "1                                      0                               0   \n",
       "2                                      0                               0   \n",
       "3                                      0                               0   \n",
       "4                                      0                               1   \n",
       "\n",
       "   PaymentMethod_Mailed check  \n",
       "0                           0  \n",
       "1                           1  \n",
       "2                           1  \n",
       "3                           0  \n",
       "4                           0  \n",
       "\n",
       "[5 rows x 27 columns]"
      ]
     },
     "execution_count": 157,
     "metadata": {},
     "output_type": "execute_result"
    }
   ],
   "source": [
    "df.head()"
   ]
  },
  {
   "cell_type": "code",
   "execution_count": 158,
   "id": "41c3eb81-c10a-47cf-b074-654f17fca9d9",
   "metadata": {},
   "outputs": [
    {
     "data": {
      "text/plain": [
       "gender                                    -0.008545\n",
       "SeniorCitizen                              0.150541\n",
       "Partner                                   -0.149982\n",
       "Dependents                                -0.163128\n",
       "tenure                                    -0.354049\n",
       "PhoneService                               0.011691\n",
       "MultipleLines                              0.040033\n",
       "OnlineSecurity                            -0.171270\n",
       "OnlineBackup                              -0.082307\n",
       "DeviceProtection                          -0.066193\n",
       "TechSupport                               -0.164716\n",
       "StreamingTV                                0.063254\n",
       "StreamingMovies                            0.060860\n",
       "PaperlessBilling                           0.191454\n",
       "MonthlyCharges                             0.192858\n",
       "TotalCharges                              -0.199484\n",
       "Churn                                      1.000000\n",
       "InternetService_DSL                       -0.124141\n",
       "InternetService_Fiber optic                0.307463\n",
       "InternetService_No                        -0.227578\n",
       "Contract_Month-to-month                    0.404565\n",
       "Contract_One year                         -0.178225\n",
       "Contract_Two year                         -0.301552\n",
       "PaymentMethod_Bank transfer (automatic)   -0.118136\n",
       "PaymentMethod_Credit card (automatic)     -0.134687\n",
       "PaymentMethod_Electronic check             0.301455\n",
       "PaymentMethod_Mailed check                -0.090773\n",
       "Name: Churn, dtype: float64"
      ]
     },
     "execution_count": 158,
     "metadata": {},
     "output_type": "execute_result"
    }
   ],
   "source": [
    "df.corr()['Churn']"
   ]
  },
  {
   "cell_type": "code",
   "execution_count": 159,
   "id": "952c4bd7-cd72-49d0-9a65-aaa18a9b9525",
   "metadata": {},
   "outputs": [],
   "source": [
    "#no preprocessing required as all the data is 1 or 0"
   ]
  },
  {
   "cell_type": "code",
   "execution_count": 160,
   "id": "64b5dc65-ed29-4c9a-b8ff-e948668152f6",
   "metadata": {},
   "outputs": [],
   "source": [
    "from sklearn.model_selection import train_test_split"
   ]
  },
  {
   "cell_type": "code",
   "execution_count": 161,
   "id": "cd0d295d-7b8f-4e23-bc90-11a4ad097a67",
   "metadata": {},
   "outputs": [],
   "source": [
    "X= df.drop('Churn' , axis=1)\n",
    "y=df['Churn']"
   ]
  },
  {
   "cell_type": "code",
   "execution_count": 162,
   "id": "9d833189-99a1-4540-a8b6-907549d7bfee",
   "metadata": {},
   "outputs": [],
   "source": [
    "X_train , X_test , y_train , y_test = train_test_split(X , y , test_size = 0.2 , random_state=42)"
   ]
  },
  {
   "cell_type": "code",
   "execution_count": 163,
   "id": "60ed5c54-4d7e-4bc3-8a66-cd00307c88b3",
   "metadata": {},
   "outputs": [
    {
     "name": "stdout",
     "output_type": "stream",
     "text": [
      "              precision    recall  f1-score   support\n",
      "\n",
      "           0       0.82      0.89      0.85      1033\n",
      "           1       0.59      0.45      0.51       374\n",
      "\n",
      "    accuracy                           0.77      1407\n",
      "   macro avg       0.70      0.67      0.68      1407\n",
      "weighted avg       0.76      0.77      0.76      1407\n",
      "\n"
     ]
    }
   ],
   "source": [
    "#lets train the model on basic knn to see how the metrics are\n",
    "from sklearn.neighbors import KNeighborsClassifier\n",
    "basic_knn = KNeighborsClassifier(n_neighbors=5)\n",
    "basic_knn.fit(X_train , y_train)\n",
    "preds_basic_knn=basic_knn.predict(X_test)\n",
    "from sklearn.metrics import classification_report\n",
    "print(classification_report(y_test , preds_basic_knn))"
   ]
  },
  {
   "cell_type": "code",
   "execution_count": 164,
   "id": "b6463b58-1dd7-4e5f-ac14-014d0b5ccdd7",
   "metadata": {},
   "outputs": [
    {
     "name": "stdout",
     "output_type": "stream",
     "text": [
      "              precision    recall  f1-score   support\n",
      "\n",
      "           0       0.84      0.90      0.87      1033\n",
      "           1       0.64      0.52      0.58       374\n",
      "\n",
      "    accuracy                           0.80      1407\n",
      "   macro avg       0.74      0.71      0.72      1407\n",
      "weighted avg       0.79      0.80      0.79      1407\n",
      "\n"
     ]
    }
   ],
   "source": [
    "#now lets use base linear SVC to check accuracy\n",
    "from sklearn.svm import LinearSVC\n",
    "base_svc = LinearSVC(penalty='l2',C=1.5,dual='auto')\n",
    "base_svc.fit(X_train,y_train)\n",
    "preds_base_svc = base_svc.predict(X_test)\n",
    "print(classification_report(y_test , preds_base_svc))"
   ]
  },
  {
   "cell_type": "code",
   "execution_count": 165,
   "id": "bd164a5b-f1b2-49c3-b522-68b6f784fcf9",
   "metadata": {},
   "outputs": [
    {
     "name": "stdout",
     "output_type": "stream",
     "text": [
      "              precision    recall  f1-score   support\n",
      "\n",
      "           0       0.90      0.82      0.86      1122\n",
      "           1       0.47      0.62      0.54       285\n",
      "\n",
      "    accuracy                           0.78      1407\n",
      "   macro avg       0.68      0.72      0.70      1407\n",
      "weighted avg       0.81      0.78      0.79      1407\n",
      "\n"
     ]
    }
   ],
   "source": [
    "#now lets use the basic random forest classifier as the model and check accuracy\n",
    "from sklearn.ensemble import RandomForestClassifier\n",
    "base_forest = RandomForestClassifier(criterion='gini' , bootstrap =True)\n",
    "base_forest.fit(X_train , y_train)\n",
    "preds_base_forest = base_forest.predict(X_test)\n",
    "print(classification_report(preds_base_forest , y_test))"
   ]
  },
  {
   "cell_type": "code",
   "execution_count": 166,
   "id": "e0a0a701-4403-4541-926e-1c9efffdf14a",
   "metadata": {},
   "outputs": [
    {
     "name": "stdout",
     "output_type": "stream",
     "text": [
      "              precision    recall  f1-score   support\n",
      "\n",
      "           0       0.89      0.83      0.86      1096\n",
      "           1       0.52      0.62      0.56       311\n",
      "\n",
      "    accuracy                           0.79      1407\n",
      "   macro avg       0.70      0.73      0.71      1407\n",
      "weighted avg       0.80      0.79      0.79      1407\n",
      "\n"
     ]
    }
   ],
   "source": [
    "#now lets use the basic logistic regression as the model and check accuracy\n",
    "from sklearn.linear_model import LogisticRegression\n",
    "base_logistic = LogisticRegression(penalty='l2' , C=0.9 , max_iter=5000)\n",
    "base_logistic.fit(X_train , y_train)\n",
    "preds_base_logistic = base_logistic.predict(X_test)\n",
    "print(classification_report(preds_base_logistic , y_test))"
   ]
  },
  {
   "cell_type": "code",
   "execution_count": 167,
   "id": "5407cdee-d315-4a83-99a4-e2ff8ea5e907",
   "metadata": {},
   "outputs": [
    {
     "data": {
      "text/plain": [
       "array([[0.99462274, 0.00537726],\n",
       "       [0.87501477, 0.12498523],\n",
       "       [0.31209842, 0.68790158],\n",
       "       ...,\n",
       "       [0.90341787, 0.09658213],\n",
       "       [0.74616585, 0.25383415],\n",
       "       [0.99801065, 0.00198935]])"
      ]
     },
     "execution_count": 167,
     "metadata": {},
     "output_type": "execute_result"
    }
   ],
   "source": [
    "#also for the logistic regression model see the probabilities\n",
    "#first col -> no churn probability\n",
    "#second model -> will churn probability\n",
    "prob_pred_base_logistic = base_logistic.predict_proba(X_test)\n",
    "prob_pred_base_logistic"
   ]
  },
  {
   "cell_type": "code",
   "execution_count": 168,
   "id": "6dd055b0-38eb-4e2e-bae3-67b0c1fd1c5d",
   "metadata": {},
   "outputs": [],
   "source": [
    "#till now all the models we used gave nearly 80% accuracy\n",
    "#but as the dataset is unbalanced we need to check other metrics also\n",
    "#Logistic Regression and RandomForestCLassifier gave maximum precison\n",
    "#On the other hand KNeighborClassifier and LinearSVC gave maximum recall"
   ]
  },
  {
   "cell_type": "code",
   "execution_count": 169,
   "id": "91dfe7cc-db47-4610-a224-eee14ba9e6fb",
   "metadata": {},
   "outputs": [],
   "source": [
    "#grid search on KNeighborClassifier\n",
    "\n",
    "# from sklearn.model_selection import GridSearchCV\n",
    "# cv_knn = KNeighborsClassifier()\n",
    "# grid_params_knn = {'n_neighbors' : [1,2,3,4,5,6,7,8,9,10,11,12,13,14,15],\n",
    "#                    'weights' : ['uniform' , 'distance'],\n",
    "#                    'leaf_size' : [10,20,30,40],\n",
    "#                   }\n",
    "# model_cv_knn = GridSearchCV(cv_knn , param_grid=grid_params_knn , scoring='f1' , verbose =2 , cv=5)\n",
    "# model_cv_knn.fit(X_train , y_train)\n",
    "# model_cv_knn.best_params_"
   ]
  },
  {
   "cell_type": "code",
   "execution_count": 170,
   "id": "2bd9a8c6-9be9-4dba-9e52-b1be382053f3",
   "metadata": {},
   "outputs": [
    {
     "name": "stdout",
     "output_type": "stream",
     "text": [
      "              precision    recall  f1-score   support\n",
      "\n",
      "           0       0.82      0.89      0.85      1033\n",
      "           1       0.59      0.45      0.51       374\n",
      "\n",
      "    accuracy                           0.77      1407\n",
      "   macro avg       0.70      0.67      0.68      1407\n",
      "weighted avg       0.76      0.77      0.76      1407\n",
      "\n"
     ]
    }
   ],
   "source": [
    "#so lets train the dataset on the best parameters found\n",
    "grid_knn = KNeighborsClassifier(n_neighbors=5 , leaf_size=10 , weights='uniform')\n",
    "grid_knn.fit(X_train , y_train)\n",
    "preds_grid_knn=grid_knn.predict(X_test)\n",
    "print(classification_report(y_test , preds_grid_knn))"
   ]
  },
  {
   "cell_type": "code",
   "execution_count": 171,
   "id": "ddd1e999-14b6-4b18-b04c-64893c3f74a0",
   "metadata": {},
   "outputs": [],
   "source": [
    "#training the model for grid search on SVC\n",
    "\n",
    "# cv_svc = LinearSVC()\n",
    "# grid_svc_param = {'penalty' : ['l1','l2'],\n",
    "#                   'loss': ['hinge', 'squared_hinge'],\n",
    "#                   'dual' : ['auto'],\n",
    "#                   'C' : [0.5 , 1 , 1.5 , 2 , 2,5],\n",
    "#                   'max_iter' : [100,500,1000,1500,2000,5000,7000]\n",
    "#                  }\n",
    "# model_cv_svc = GridSearchCV(cv_svc , param_grid=grid_svc_param , scoring='f1' , verbose=2 , cv=10)\n",
    "# model_cv_svc.fit(X_train , y_train)\n",
    "# model_cv_svc.best_params_"
   ]
  },
  {
   "cell_type": "code",
   "execution_count": 172,
   "id": "f0eec736-8d01-4ca6-b984-de8aa23fe63a",
   "metadata": {},
   "outputs": [
    {
     "name": "stdout",
     "output_type": "stream",
     "text": [
      "              precision    recall  f1-score   support\n",
      "\n",
      "           0       0.83      0.90      0.87      1033\n",
      "           1       0.65      0.51      0.57       374\n",
      "\n",
      "    accuracy                           0.80      1407\n",
      "   macro avg       0.74      0.70      0.72      1407\n",
      "weighted avg       0.78      0.80      0.79      1407\n",
      "\n"
     ]
    }
   ],
   "source": [
    "#lets train the svc on the best params\n",
    "grid_svc = LinearSVC(penalty='l1',C=1.5,dual='auto',loss='squared_hinge',max_iter=7000)\n",
    "grid_svc.fit(X_train,y_train)\n",
    "preds_grid_svc = grid_svc.predict(X_test)\n",
    "print(classification_report(y_test , preds_grid_svc))"
   ]
  },
  {
   "cell_type": "code",
   "execution_count": 173,
   "id": "c8b51e20-f4fc-47c4-ae33-09e5319ec57a",
   "metadata": {},
   "outputs": [],
   "source": [
    "#as we see the SVCs perform the best so lets check on even more parameters\n",
    "\n",
    "# from sklearn.model_selection import GridSearchCV\n",
    "# cv_svc = LinearSVC()\n",
    "# grid_svc_param = {'penalty' : ['l1','l2'],\n",
    "#                   'loss': ['hinge', 'squared_hinge'],\n",
    "#                   'dual' : ['auto'],\n",
    "#                   'C' : [1.5 , 2 , 2,5, 3],\n",
    "#                   'max_iter' : [5000,7000,8000]\n",
    "#                  }\n",
    "# model_cv_svc = GridSearchCV(cv_svc , param_grid=grid_svc_param , scoring='f1' , verbose=2 , cv=10)\n",
    "# model_cv_svc.fit(X_train , y_train)\n",
    "# model_cv_svc.best_params_"
   ]
  },
  {
   "cell_type": "code",
   "execution_count": 174,
   "id": "26b1752c-bcc1-4257-83ee-9e290027f7b7",
   "metadata": {},
   "outputs": [
    {
     "name": "stdout",
     "output_type": "stream",
     "text": [
      "              precision    recall  f1-score   support\n",
      "\n",
      "           0       0.83      0.90      0.87      1033\n",
      "           1       0.64      0.51      0.57       374\n",
      "\n",
      "    accuracy                           0.79      1407\n",
      "   macro avg       0.74      0.70      0.72      1407\n",
      "weighted avg       0.78      0.79      0.79      1407\n",
      "\n"
     ]
    }
   ],
   "source": [
    "grid_svc_new = LinearSVC(penalty='l1',C=5,dual='auto',loss='squared_hinge',max_iter=5000)\n",
    "grid_svc_new.fit(X_train,y_train)\n",
    "preds_grid_svc_new = grid_svc_new.predict(X_test)\n",
    "print(classification_report(y_test , preds_grid_svc_new))"
   ]
  },
  {
   "cell_type": "code",
   "execution_count": 175,
   "id": "ee496394-140e-46c3-809c-394b04bc58b9",
   "metadata": {},
   "outputs": [
    {
     "data": {
      "text/plain": [
       "array([[928, 105],\n",
       "       [184, 190]], dtype=int64)"
      ]
     },
     "execution_count": 175,
     "metadata": {},
     "output_type": "execute_result"
    }
   ],
   "source": [
    "from sklearn.metrics import confusion_matrix\n",
    "confusion_matrix(y_test , preds_grid_svc_new)"
   ]
  },
  {
   "cell_type": "code",
   "execution_count": 176,
   "id": "4d4aa5a7-6fac-4794-8348-da6d80edaae6",
   "metadata": {},
   "outputs": [],
   "source": [
    "#this shows unbalance in the predictions as most predictions are True Positive and rest are 10% of it."
   ]
  },
  {
   "cell_type": "code",
   "execution_count": 177,
   "id": "bc535311-edf4-4016-8020-ea6a8cb14eee",
   "metadata": {},
   "outputs": [
    {
     "name": "stdout",
     "output_type": "stream",
     "text": [
      "              precision    recall  f1-score   support\n",
      "\n",
      "           0       0.89      0.83      0.86      1115\n",
      "           1       0.49      0.62      0.55       292\n",
      "\n",
      "    accuracy                           0.79      1407\n",
      "   macro avg       0.69      0.73      0.70      1407\n",
      "weighted avg       0.81      0.79      0.79      1407\n",
      "\n"
     ]
    }
   ],
   "source": [
    "from sklearn.ensemble import RandomForestClassifier\n",
    "base_forest_new = RandomForestClassifier(criterion='gini' , bootstrap =True , n_estimators=1000)\n",
    "base_forest_new.fit(X_train , y_train)\n",
    "preds_base_forest_new = base_forest_new.predict(X_test)\n",
    "print(classification_report(preds_base_forest_new , y_test))"
   ]
  },
  {
   "cell_type": "code",
   "execution_count": 178,
   "id": "73f60d18-db0d-43bc-ac11-2b56110ca457",
   "metadata": {},
   "outputs": [
    {
     "name": "stdout",
     "output_type": "stream",
     "text": [
      "              precision    recall  f1-score   support\n",
      "\n",
      "           0       0.89      0.83      0.86      1111\n",
      "           1       0.49      0.62      0.55       296\n",
      "\n",
      "    accuracy                           0.79      1407\n",
      "   macro avg       0.69      0.73      0.71      1407\n",
      "weighted avg       0.81      0.79      0.80      1407\n",
      "\n"
     ]
    }
   ],
   "source": [
    "#lets try with adaboosting the decision trees\n",
    "from sklearn.ensemble import AdaBoostClassifier\n",
    "ada_rfc = AdaBoostClassifier(n_estimators = 66 , learning_rate = 0.5)\n",
    "ada_rfc.fit(X_train , y_train)\n",
    "preds_ada = ada_rfc.predict(X_test)\n",
    "print(classification_report(preds_ada , y_test))"
   ]
  },
  {
   "cell_type": "code",
   "execution_count": 179,
   "id": "8e9688dd-27a4-44d3-92db-1dbe83d8a8cb",
   "metadata": {},
   "outputs": [],
   "source": [
    "#as there is unbalance and none of the previous models could achieve 90% accuracy lets use SMOTE"
   ]
  },
  {
   "cell_type": "code",
   "execution_count": 180,
   "id": "627162cf-c009-4732-87b3-d83c9e07ad77",
   "metadata": {},
   "outputs": [],
   "source": [
    "#using SMOTE to oversample the minority data\n",
    "from imblearn.combine import SMOTEENN\n",
    "sm=SMOTEENN()\n",
    "X_resampled, y_resampled = sm.fit_resample(X,y)\n",
    "resampled_X_train , resampled_X_test , resampled_y_train , resampled_y_test = train_test_split(X_resampled , y_resampled , test_size=0.2 , random_state=42)"
   ]
  },
  {
   "cell_type": "code",
   "execution_count": 181,
   "id": "70309a63-19d0-4fbc-8b6d-ebd31fa63acf",
   "metadata": {},
   "outputs": [
    {
     "name": "stdout",
     "output_type": "stream",
     "text": [
      "              precision    recall  f1-score   support\n",
      "\n",
      "           0       0.93      0.95      0.94       546\n",
      "           1       0.96      0.93      0.95       626\n",
      "\n",
      "    accuracy                           0.94      1172\n",
      "   macro avg       0.94      0.94      0.94      1172\n",
      "weighted avg       0.94      0.94      0.94      1172\n",
      "\n"
     ]
    }
   ],
   "source": [
    "from sklearn.tree import DecisionTreeClassifier\n",
    "model_smote = DecisionTreeClassifier(criterion = \"gini\",random_state = 100,max_depth=6, min_samples_leaf=8)\n",
    "model_smote.fit(resampled_X_train,resampled_y_train)\n",
    "smote_predict = model_smote.predict(resampled_X_test)\n",
    "print(classification_report(resampled_y_test, smote_predict))"
   ]
  },
  {
   "cell_type": "code",
   "execution_count": 182,
   "id": "8179dd12-e07d-4641-bc1c-178aff438110",
   "metadata": {},
   "outputs": [],
   "source": [
    "#now lets grid search on Decision tree and try to get better metrics\n",
    "\n",
    "# from sklearn.model_selection import GridSearchCV\n",
    "# tree_sm = DecisionTreeClassifier()\n",
    "# smote_param_grid = {'criterion' : ['gini' , 'log_loss'] , \n",
    "#                     'max_depth' : [3,4,5,6] ,\n",
    "#                     'min_samples_leaf' : [3,4,5,6] ,\n",
    "#                     'min_samples_split' : [2,3,4,5,6]}\n",
    "# model_tree_smote = GridSearchCV(tree_sm , param_grid= smote_param_grid , scoring ='f1' , verbose = 2 , cv = 10)\n",
    "# model_tree_smote.fit(resampled_X_train,resampled_y_train)\n",
    "# model_tree_smote.best_params_"
   ]
  },
  {
   "cell_type": "code",
   "execution_count": 183,
   "id": "190af7d2-bbde-45b6-8d0a-9db504bdc11a",
   "metadata": {
    "scrolled": true
   },
   "outputs": [
    {
     "name": "stdout",
     "output_type": "stream",
     "text": [
      "              precision    recall  f1-score   support\n",
      "\n",
      "           0       0.95      0.93      0.94       546\n",
      "           1       0.94      0.96      0.95       626\n",
      "\n",
      "    accuracy                           0.94      1172\n",
      "   macro avg       0.95      0.94      0.94      1172\n",
      "weighted avg       0.94      0.94      0.94      1172\n",
      "\n"
     ]
    }
   ],
   "source": [
    "grid_smote_tree = DecisionTreeClassifier(criterion = 'log_loss' , max_depth = 6 , min_samples_leaf=3 , min_samples_split=5 , random_state=100)\n",
    "grid_smote_tree.fit(resampled_X_train,resampled_y_train)\n",
    "grid_smote_preds = grid_smote_tree.predict(resampled_X_test)\n",
    "print(classification_report(resampled_y_test , grid_smote_preds)) "
   ]
  },
  {
   "cell_type": "code",
   "execution_count": 184,
   "id": "ea377894-71e1-4776-99db-32d538843670",
   "metadata": {},
   "outputs": [],
   "source": [
    "#hence the average accuracy achieved is 93 percent "
   ]
  },
  {
   "cell_type": "code",
   "execution_count": 185,
   "id": "293e7f29-2a43-438b-8fe2-4326503c4e7d",
   "metadata": {},
   "outputs": [
    {
     "data": {
      "text/plain": [
       "array([[507,  39],\n",
       "       [ 26, 600]], dtype=int64)"
      ]
     },
     "execution_count": 185,
     "metadata": {},
     "output_type": "execute_result"
    }
   ],
   "source": [
    "confusion_matrix( resampled_y_test , grid_smote_preds)"
   ]
  },
  {
   "cell_type": "code",
   "execution_count": 186,
   "id": "361a7047-18c5-40d1-a18d-a5a0c6e3f1f1",
   "metadata": {},
   "outputs": [],
   "source": [
    "#lets use different models to improve the metrics now"
   ]
  },
  {
   "cell_type": "code",
   "execution_count": 187,
   "id": "91c6d976-5575-41b1-a980-833f66038c60",
   "metadata": {},
   "outputs": [
    {
     "name": "stdout",
     "output_type": "stream",
     "text": [
      "building tree 1 of 10\n",
      "building tree 2 of 10\n",
      "building tree 3 of 10\n",
      "building tree 4 of 10\n",
      "building tree 5 of 10\n",
      "building tree 6 of 10\n",
      "building tree 7 of 10\n",
      "building tree 8 of 10\n",
      "building tree 9 of 10\n",
      "building tree 10 of 10\n",
      "              precision    recall  f1-score   support\n",
      "\n",
      "           0       0.93      0.91      0.92       546\n",
      "           1       0.93      0.94      0.94       626\n",
      "\n",
      "    accuracy                           0.93      1172\n",
      "   macro avg       0.93      0.93      0.93      1172\n",
      "weighted avg       0.93      0.93      0.93      1172\n",
      "\n"
     ]
    }
   ],
   "source": [
    "from sklearn.ensemble import RandomForestClassifier\n",
    "smote_rfc = RandomForestClassifier(n_estimators = 10 , max_depth = 5 , min_samples_leaf=5 , min_samples_split=3 , criterion = 'gini' , verbose =2)\n",
    "smote_rfc.fit(resampled_X_train,resampled_y_train)\n",
    "smote_rfc_preds = smote_rfc.predict(resampled_X_test)\n",
    "print(classification_report(resampled_y_test , smote_rfc_preds))"
   ]
  },
  {
   "cell_type": "code",
   "execution_count": 188,
   "id": "3620014f-ba4d-4791-ba35-8d5d7429f0aa",
   "metadata": {},
   "outputs": [
    {
     "data": {
      "text/plain": [
       "array([[499,  47],\n",
       "       [ 35, 591]], dtype=int64)"
      ]
     },
     "execution_count": 188,
     "metadata": {},
     "output_type": "execute_result"
    }
   ],
   "source": [
    "confusion_matrix(resampled_y_test , smote_rfc_preds)"
   ]
  },
  {
   "cell_type": "code",
   "execution_count": 189,
   "id": "5228e55a-e08f-4b8a-960c-5b42d242bb65",
   "metadata": {},
   "outputs": [],
   "source": [
    "#now lets use grid search for better metrics\n",
    "\n",
    "\n",
    "# from sklearn.ensemble import RandomForestClassifier\n",
    "# grid_smote_rfc = RandomForestClassifier()\n",
    "# smote_rfc_params = {'n_estimators' : [5,10,15,20,25] ,\n",
    "#                     'max_depth' : [4,5,6,7] ,\n",
    "#                     'min_samples_leaf' : [3,4,5,6] , \n",
    "#                     'criterion' : ['gini' , 'log_loss'],\n",
    "#                     'min_samples_split' : [2,3,4]}\n",
    "# from sklearn.model_selection import GridSearchCV\n",
    "# smote_rfc_model = GridSearchCV(grid_smote_rfc , param_grid=smote_rfc_params , scoring = 'f1' , verbose = 2, cv = 10)\n",
    "# smote_rfc_model.fit(resampled_X_train,resampled_y_train)\n",
    "# smote_rfc_model.best_params_"
   ]
  },
  {
   "cell_type": "code",
   "execution_count": 190,
   "id": "1812fa2f-c405-4ef7-87b8-4d658688b915",
   "metadata": {},
   "outputs": [
    {
     "name": "stdout",
     "output_type": "stream",
     "text": [
      "              precision    recall  f1-score   support\n",
      "\n",
      "           0       0.92      0.96      0.94       527\n",
      "           1       0.96      0.93      0.95       645\n",
      "\n",
      "    accuracy                           0.94      1172\n",
      "   macro avg       0.94      0.95      0.94      1172\n",
      "weighted avg       0.95      0.94      0.94      1172\n",
      "\n"
     ]
    }
   ],
   "source": [
    "from sklearn.ensemble import RandomForestClassifier\n",
    "rfc_final_smote = RandomForestClassifier(criterion = 'gini' , max_depth = 7 , min_samples_leaf = 5 , min_samples_split = 4 , n_estimators = 25)\n",
    "rfc_final_smote.fit(resampled_X_train,resampled_y_train)\n",
    "rfc_grid_smote_pred = rfc_final_smote.predict(resampled_X_test)\n",
    "print(classification_report(rfc_grid_smote_pred , resampled_y_test))"
   ]
  },
  {
   "cell_type": "code",
   "execution_count": 191,
   "id": "fa22738f-d4ea-4773-9626-426379a60136",
   "metadata": {},
   "outputs": [],
   "source": [
    "#we are getting similar accuracy and other meterics"
   ]
  },
  {
   "cell_type": "code",
   "execution_count": 192,
   "id": "996b7536-aad0-4161-b2b9-e09ee8711340",
   "metadata": {},
   "outputs": [],
   "source": [
    "#lets use LinearSVC\n",
    "\n",
    "# from sklearn.svm import LinearSVC\n",
    "# from sklearn.model_selection import GridSearchCV\n",
    "# smote_grid_svc = LinearSVC()\n",
    "# grid_smote_svc_param = {'penalty' : ['l1','l2'],\n",
    "#                   'loss': ['hinge', 'squared_hinge'],\n",
    "#                   'dual' : ['auto'],\n",
    "#                   'C' : [0.5 , 1 , 1.5 , 2 , 2,5],\n",
    "#                   'max_iter' : [3000 , 5000 , 7000]\n",
    "#                  }\n",
    "# smote_svc_grid = GridSearchCV(smote_grid_svc , param_grid=grid_smote_svc_param , cv = 10 , scoring = 'f1' , verbose=2)\n",
    "# smote_svc_grid.fit(resampled_X_train,resampled_y_train)\n",
    "# smote_svc_grid.best_params_"
   ]
  },
  {
   "cell_type": "code",
   "execution_count": 195,
   "id": "f322b27a-7913-4bec-b0a6-cf70b310631e",
   "metadata": {},
   "outputs": [
    {
     "name": "stdout",
     "output_type": "stream",
     "text": [
      "              precision    recall  f1-score   support\n",
      "\n",
      "           0       0.94      0.96      0.95       546\n",
      "           1       0.96      0.95      0.96       626\n",
      "\n",
      "    accuracy                           0.95      1172\n",
      "   macro avg       0.95      0.95      0.95      1172\n",
      "weighted avg       0.95      0.95      0.95      1172\n",
      "\n"
     ]
    }
   ],
   "source": [
    "smote_grid_svc_final = LinearSVC(penalty='l1',C=2,dual='auto',loss='squared_hinge',max_iter=7000)\n",
    "smote_grid_svc_final.fit(resampled_X_train,resampled_y_train)\n",
    "smote_preds_grid_svc_final = smote_grid_svc_final.predict(resampled_X_test)\n",
    "print(classification_report(resampled_y_test , smote_preds_grid_svc_final))"
   ]
  },
  {
   "cell_type": "code",
   "execution_count": 194,
   "id": "d3ac7d86-12bd-439f-ad19-c6d2cedeb5e6",
   "metadata": {},
   "outputs": [],
   "source": [
    "#again similar results so stopping to test more ml models"
   ]
  },
  {
   "cell_type": "code",
   "execution_count": null,
   "id": "cbc7cfb1-6686-46e6-9468-f4bbc12112d2",
   "metadata": {},
   "outputs": [],
   "source": []
  }
 ],
 "metadata": {
  "kernelspec": {
   "display_name": "Python 3 (ipykernel)",
   "language": "python",
   "name": "python3"
  },
  "language_info": {
   "codemirror_mode": {
    "name": "ipython",
    "version": 3
   },
   "file_extension": ".py",
   "mimetype": "text/x-python",
   "name": "python",
   "nbconvert_exporter": "python",
   "pygments_lexer": "ipython3",
   "version": "3.12.4"
  }
 },
 "nbformat": 4,
 "nbformat_minor": 5
}
